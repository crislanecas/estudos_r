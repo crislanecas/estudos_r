{
  "nbformat": 4,
  "nbformat_minor": 0,
  "metadata": {
    "colab": {
      "provenance": [],
      "authorship_tag": "ABX9TyP269vpxGsvm9tpWWW7T5IV",
      "include_colab_link": true
    },
    "kernelspec": {
      "name": "ir",
      "display_name": "R"
    },
    "language_info": {
      "name": "R"
    }
  },
  "cells": [
    {
      "cell_type": "markdown",
      "metadata": {
        "id": "view-in-github",
        "colab_type": "text"
      },
      "source": [
        "<a href=\"https://colab.research.google.com/github/crislanecas/estudos_r/blob/main/Google%20Data%20Analytics/02_Estrutura_de_dados_em_R.ipynb\" target=\"_parent\"><img src=\"https://colab.research.google.com/assets/colab-badge.svg\" alt=\"Open In Colab\"/></a>"
      ]
    },
    {
      "cell_type": "markdown",
      "source": [
        "# Instalando pacotes"
      ],
      "metadata": {
        "id": "X3qEqP_xa6WW"
      }
    },
    {
      "cell_type": "code",
      "source": [
        "# Instala o pacote tidyverse.\n",
        "install.packages(\"tidyverse\")"
      ],
      "metadata": {
        "id": "4sroXFJ7a51o"
      },
      "execution_count": null,
      "outputs": []
    },
    {
      "cell_type": "markdown",
      "source": [
        "# Função c()\n",
        "Vetor é um grupo de elementos de dados do mesmo tipo armazenado em uma sequência."
      ],
      "metadata": {
        "id": "DycZSdqfbBBd"
      }
    },
    {
      "cell_type": "code",
      "execution_count": null,
      "metadata": {
        "colab": {
          "base_uri": "https://localhost:8080/",
          "height": 34
        },
        "id": "weAdX4tkNcCE",
        "outputId": "fd18bade-5172-4f17-e0a1-83741f3c2002"
      },
      "outputs": [
        {
          "output_type": "display_data",
          "data": {
            "text/html": [
              "<style>\n",
              ".list-inline {list-style: none; margin:0; padding: 0}\n",
              ".list-inline>li {display: inline-block}\n",
              ".list-inline>li:not(:last-child)::after {content: \"\\00b7\"; padding: 0 .5ex}\n",
              "</style>\n",
              "<ol class=list-inline><li>1</li><li>2</li><li>3</li><li>4</li><li>5</li></ol>\n"
            ],
            "text/markdown": "1. 1\n2. 2\n3. 3\n4. 4\n5. 5\n\n\n",
            "text/latex": "\\begin{enumerate*}\n\\item 1\n\\item 2\n\\item 3\n\\item 4\n\\item 5\n\\end{enumerate*}\n",
            "text/plain": [
              "[1] 1 2 3 4 5"
            ]
          },
          "metadata": {}
        }
      ],
      "source": [
        "# Cria um vetor utilizando a função c(), combine.\n",
        "vec1 <- c(1, 2, 3, 4, 5)\n",
        "vec1"
      ]
    },
    {
      "cell_type": "code",
      "source": [
        "# Cria um vetor de números inteiros, sendo necessário inserir a letra \"L\" logo após cada número.\n",
        "vec2 <- c(1L, 5L, 15L)\n",
        "vec2"
      ],
      "metadata": {
        "colab": {
          "base_uri": "https://localhost:8080/",
          "height": 34
        },
        "id": "7FDdlGkFbD5G",
        "outputId": "3440cf76-b406-4d7e-fd9a-cb4ee0fdb203"
      },
      "execution_count": null,
      "outputs": [
        {
          "output_type": "display_data",
          "data": {
            "text/html": [
              "<style>\n",
              ".list-inline {list-style: none; margin:0; padding: 0}\n",
              ".list-inline>li {display: inline-block}\n",
              ".list-inline>li:not(:last-child)::after {content: \"\\00b7\"; padding: 0 .5ex}\n",
              "</style>\n",
              "<ol class=list-inline><li>1</li><li>5</li><li>15</li></ol>\n"
            ],
            "text/markdown": "1. 1\n2. 5\n3. 15\n\n\n",
            "text/latex": "\\begin{enumerate*}\n\\item 1\n\\item 5\n\\item 15\n\\end{enumerate*}\n",
            "text/plain": [
              "[1]  1  5 15"
            ]
          },
          "metadata": {}
        }
      ]
    },
    {
      "cell_type": "markdown",
      "source": [
        "# Função typeof()"
      ],
      "metadata": {
        "id": "0VcwntSdbFko"
      }
    },
    {
      "cell_type": "code",
      "source": [
        "# Mostra o tipo do vetor.\n",
        "typeof(vec1)"
      ],
      "metadata": {
        "colab": {
          "base_uri": "https://localhost:8080/",
          "height": 34
        },
        "id": "B5_bB_p2bHfq",
        "outputId": "60ca408c-98eb-428c-f26f-0b3d647c9e9a"
      },
      "execution_count": null,
      "outputs": [
        {
          "output_type": "display_data",
          "data": {
            "text/html": [
              "'double'"
            ],
            "text/markdown": "'double'",
            "text/latex": "'double'",
            "text/plain": [
              "[1] \"double\""
            ]
          },
          "metadata": {}
        }
      ]
    },
    {
      "cell_type": "markdown",
      "source": [
        "# Função is.logical(), is.double(), is.integer(), is.character()"
      ],
      "metadata": {
        "id": "HBYFy8m-bJog"
      }
    },
    {
      "cell_type": "code",
      "source": [
        "# Verificar se o vetor é do tipo lógico.\n",
        "is.logical(vec1)"
      ],
      "metadata": {
        "colab": {
          "base_uri": "https://localhost:8080/",
          "height": 34
        },
        "id": "605_Smg6bL2X",
        "outputId": "fc0ee509-b5d6-469d-a274-68c5ac93d448"
      },
      "execution_count": null,
      "outputs": [
        {
          "output_type": "display_data",
          "data": {
            "text/html": [
              "FALSE"
            ],
            "text/markdown": "FALSE",
            "text/latex": "FALSE",
            "text/plain": [
              "[1] FALSE"
            ]
          },
          "metadata": {}
        }
      ]
    },
    {
      "cell_type": "code",
      "source": [
        "# Verificar se o vetor é do tipo decimal.\n",
        "is.double(vec1)"
      ],
      "metadata": {
        "colab": {
          "base_uri": "https://localhost:8080/",
          "height": 34
        },
        "id": "paMTOtdrbQ_R",
        "outputId": "38e11d09-235c-47eb-f682-73c98367f2d9"
      },
      "execution_count": null,
      "outputs": [
        {
          "output_type": "display_data",
          "data": {
            "text/html": [
              "TRUE"
            ],
            "text/markdown": "TRUE",
            "text/latex": "TRUE",
            "text/plain": [
              "[1] TRUE"
            ]
          },
          "metadata": {}
        }
      ]
    },
    {
      "cell_type": "code",
      "source": [
        "# Verificar se o vetor é do tipo inteiro.\n",
        "is.integer(vec2)"
      ],
      "metadata": {
        "colab": {
          "base_uri": "https://localhost:8080/",
          "height": 34
        },
        "id": "zjlhZBikbSQO",
        "outputId": "8931d7a6-68c1-4b0b-ed2e-fb48c68d9db9"
      },
      "execution_count": null,
      "outputs": [
        {
          "output_type": "display_data",
          "data": {
            "text/html": [
              "TRUE"
            ],
            "text/markdown": "TRUE",
            "text/latex": "TRUE",
            "text/plain": [
              "[1] TRUE"
            ]
          },
          "metadata": {}
        }
      ]
    },
    {
      "cell_type": "code",
      "source": [
        "# Verificar se o vetor é do tipo caracter.\n",
        "is.character(vec2)"
      ],
      "metadata": {
        "colab": {
          "base_uri": "https://localhost:8080/",
          "height": 34
        },
        "id": "D8LvbYT2bTr0",
        "outputId": "5d423c3b-8c39-4e65-a21b-91026e3e73b2"
      },
      "execution_count": null,
      "outputs": [
        {
          "output_type": "display_data",
          "data": {
            "text/html": [
              "FALSE"
            ],
            "text/markdown": "FALSE",
            "text/latex": "FALSE",
            "text/plain": [
              "[1] FALSE"
            ]
          },
          "metadata": {}
        }
      ]
    },
    {
      "cell_type": "markdown",
      "source": [
        "\n",
        "# Função length()"
      ],
      "metadata": {
        "id": "LITNx1ecbVP_"
      }
    },
    {
      "cell_type": "code",
      "source": [
        "# Mostra o comprimento do vetor, quantos elementos tem armazenados.\n",
        "x <- c(33.5, 57.75, 120.05, 4)\n",
        "length(x)"
      ],
      "metadata": {
        "colab": {
          "base_uri": "https://localhost:8080/",
          "height": 34
        },
        "id": "TjwbD9GwbXEs",
        "outputId": "35c14860-9bd8-4a31-8e2d-e3efd7cca5c6"
      },
      "execution_count": null,
      "outputs": [
        {
          "output_type": "display_data",
          "data": {
            "text/html": [
              "4"
            ],
            "text/markdown": "4",
            "text/latex": "4",
            "text/plain": [
              "[1] 4"
            ]
          },
          "metadata": {}
        }
      ]
    },
    {
      "cell_type": "markdown",
      "source": [
        "# Função names()"
      ],
      "metadata": {
        "id": "EfSm7j4UbcX0"
      }
    },
    {
      "cell_type": "code",
      "source": [
        "# Atribui novos elementos ao vetor, substituindo os anteriores.\n",
        "names(vec1) <- c(\"a\", \"b\", \"c\")\n",
        "vec1"
      ],
      "metadata": {
        "colab": {
          "base_uri": "https://localhost:8080/",
          "height": 34
        },
        "id": "2CBZgZfzbd4H",
        "outputId": "b2b5b355-4155-41e6-e3cd-887225e245af"
      },
      "execution_count": null,
      "outputs": [
        {
          "output_type": "display_data",
          "data": {
            "text/html": [
              "<style>\n",
              ".dl-inline {width: auto; margin:0; padding: 0}\n",
              ".dl-inline>dt, .dl-inline>dd {float: none; width: auto; display: inline-block}\n",
              ".dl-inline>dt::after {content: \":\\0020\"; padding-right: .5ex}\n",
              ".dl-inline>dt:not(:first-of-type) {padding-left: .5ex}\n",
              "</style><dl class=dl-inline><dt>a</dt><dd>1</dd><dt>b</dt><dd>2</dd><dt>c</dt><dd>3</dd><dt>4</dt><dd>4</dd><dt>5</dt><dd>5</dd></dl>\n"
            ],
            "text/markdown": "a\n:   1b\n:   2c\n:   34\n:   45\n:   5\n\n",
            "text/latex": "\\begin{description*}\n\\item[a] 1\n\\item[b] 2\n\\item[c] 3\n\\item[4] 4\n\\item[5] 5\n\\end{description*}\n",
            "text/plain": [
              "   a    b    c <NA> <NA> \n",
              "   1    2    3    4    5 "
            ]
          },
          "metadata": {}
        }
      ]
    },
    {
      "cell_type": "markdown",
      "source": [
        "# Função list()\n",
        "Listas diferem-se dos vetores atômicos pois seus elementos podem ser de qualquer tipo, como datas, data frames, vetores, matrizes, etc. Elas podem até mesmo conter outras listas."
      ],
      "metadata": {
        "id": "Ymnb2pPsbgXN"
      }
    },
    {
      "cell_type": "code",
      "source": [
        "# Cria uma lista com elementos diferentes e atribui os valores a variável.\n",
        "lista1 <- list(\"a\", 1L, 1.5, TRUE)"
      ],
      "metadata": {
        "id": "ilBuH3NpbhgH"
      },
      "execution_count": null,
      "outputs": []
    },
    {
      "cell_type": "code",
      "source": [
        "# Cria uma lista, dentro de outra lista (lista aninhada) e atribui os valores a variável.\n",
        "z <- list(list(list(1 , 3, 5)))"
      ],
      "metadata": {
        "id": "p3vbgzm-bj6u"
      },
      "execution_count": null,
      "outputs": []
    },
    {
      "cell_type": "code",
      "source": [
        "# Cria uma lista, com chave e valor e atribui os valores a variável.\n",
        "lista2 <- list('Chicago' = 1, 'New York' = 2, 'Los Angeles' = 3)"
      ],
      "metadata": {
        "id": "lD8tO3c3blVN"
      },
      "execution_count": null,
      "outputs": []
    },
    {
      "cell_type": "markdown",
      "source": [
        "# Função str()"
      ],
      "metadata": {
        "id": "ayoFBay6bnNf"
      }
    },
    {
      "cell_type": "code",
      "source": [
        "# Mostra os tipos de elementos inclusos em uma lista.\n",
        "str(lista1)"
      ],
      "metadata": {
        "colab": {
          "base_uri": "https://localhost:8080/"
        },
        "id": "6zv6FWp_bofk",
        "outputId": "cd1ecdd5-8af8-4e4e-fe9d-bb74e6d266f7"
      },
      "execution_count": null,
      "outputs": [
        {
          "output_type": "stream",
          "name": "stdout",
          "text": [
            "List of 4\n",
            " $ : chr \"a\"\n",
            " $ : int 1\n",
            " $ : num 1.5\n",
            " $ : logi TRUE\n"
          ]
        }
      ]
    },
    {
      "cell_type": "code",
      "source": [
        "# Mostra os tipos de elementos inclusos em uma lista.\n",
        "# O recuo dos símbolos $ refletem a estrutura aninhada da lista.\n",
        "str(z)"
      ],
      "metadata": {
        "colab": {
          "base_uri": "https://localhost:8080/"
        },
        "id": "k1PDWXE4br2T",
        "outputId": "2a250d9c-99c1-4cf4-b6c3-9308a207f9bc"
      },
      "execution_count": null,
      "outputs": [
        {
          "output_type": "stream",
          "name": "stdout",
          "text": [
            "List of 1\n",
            " $ :List of 1\n",
            "  ..$ :List of 3\n",
            "  .. ..$ : num 1\n",
            "  .. ..$ : num 3\n",
            "  .. ..$ : num 5\n"
          ]
        }
      ]
    },
    {
      "cell_type": "code",
      "source": [
        "# Mostra os tipos de elementos inclusos em uma lista.\n",
        "str(lista2)"
      ],
      "metadata": {
        "colab": {
          "base_uri": "https://localhost:8080/"
        },
        "id": "VwFjlhnbbtGj",
        "outputId": "e141bd6b-6405-4f85-cfe1-298efc40269f"
      },
      "execution_count": null,
      "outputs": [
        {
          "output_type": "stream",
          "name": "stdout",
          "text": [
            "List of 3\n",
            " $ Chicago    : num 1\n",
            " $ New York   : num 2\n",
            " $ Los Angeles: num 3\n"
          ]
        }
      ]
    },
    {
      "cell_type": "markdown",
      "source": [
        "# Função data.frame()\n",
        "Dataframe, é uma coleção de colunas semelhante a uma planilha ou tabela de SQL."
      ],
      "metadata": {
        "id": "DwyagjBlbunm"
      }
    },
    {
      "cell_type": "code",
      "source": [
        "# Cria uma dataframe.\n",
        "data.frame(x = c(1, 2, 3) , y = c(1.5, 5.5, 7.5))"
      ],
      "metadata": {
        "colab": {
          "base_uri": "https://localhost:8080/",
          "height": 209
        },
        "id": "Gflaeff3bvn5",
        "outputId": "e0f0b331-db52-40d9-a1ee-a6ee36e7da7c"
      },
      "execution_count": null,
      "outputs": [
        {
          "output_type": "display_data",
          "data": {
            "text/html": [
              "<table class=\"dataframe\">\n",
              "<caption>A data.frame: 3 × 2</caption>\n",
              "<thead>\n",
              "\t<tr><th scope=col>x</th><th scope=col>y</th></tr>\n",
              "\t<tr><th scope=col>&lt;dbl&gt;</th><th scope=col>&lt;dbl&gt;</th></tr>\n",
              "</thead>\n",
              "<tbody>\n",
              "\t<tr><td>1</td><td>1.5</td></tr>\n",
              "\t<tr><td>2</td><td>5.5</td></tr>\n",
              "\t<tr><td>3</td><td>7.5</td></tr>\n",
              "</tbody>\n",
              "</table>\n"
            ],
            "text/markdown": "\nA data.frame: 3 × 2\n\n| x &lt;dbl&gt; | y &lt;dbl&gt; |\n|---|---|\n| 1 | 1.5 |\n| 2 | 5.5 |\n| 3 | 7.5 |\n\n",
            "text/latex": "A data.frame: 3 × 2\n\\begin{tabular}{ll}\n x & y\\\\\n <dbl> & <dbl>\\\\\n\\hline\n\t 1 & 1.5\\\\\n\t 2 & 5.5\\\\\n\t 3 & 7.5\\\\\n\\end{tabular}\n",
            "text/plain": [
              "  x y  \n",
              "1 1 1.5\n",
              "2 2 5.5\n",
              "3 3 7.5"
            ]
          },
          "metadata": {}
        }
      ]
    },
    {
      "cell_type": "markdown",
      "source": [
        "# Função dir.create()"
      ],
      "metadata": {
        "id": "0lK83B7WbykL"
      }
    },
    {
      "cell_type": "code",
      "source": [
        "# Criar uma nova pasta, ou diretório, para guardar seus arquivos.\n",
        "dir.create (\"destination_folder\")"
      ],
      "metadata": {
        "id": "Ya3zGwzEbznq"
      },
      "execution_count": null,
      "outputs": []
    },
    {
      "cell_type": "markdown",
      "source": [
        "# Função file.create()\n",
        "Os tipos de arquivo serão, em geral, como .txt, .docx ou .csv."
      ],
      "metadata": {
        "id": "FFe2WCoOb37x"
      }
    },
    {
      "cell_type": "code",
      "source": [
        "# Criar um arquivo em branco, insira o nome e o tipo do arquivo a ser criado.\n",
        "file.create (\"new_csv_file.csv\")"
      ],
      "metadata": {
        "colab": {
          "base_uri": "https://localhost:8080/",
          "height": 34
        },
        "id": "PLjUirDqb5Qa",
        "outputId": "0e6b2234-6df0-45c9-cf5c-d005ca673ffb"
      },
      "execution_count": null,
      "outputs": [
        {
          "output_type": "display_data",
          "data": {
            "text/html": [
              "TRUE"
            ],
            "text/markdown": "TRUE",
            "text/latex": "TRUE",
            "text/plain": [
              "[1] TRUE"
            ]
          },
          "metadata": {}
        }
      ]
    },
    {
      "cell_type": "markdown",
      "source": [
        "# Função file.copy()"
      ],
      "metadata": {
        "id": "lxEZF4Kwb8N9"
      }
    },
    {
      "cell_type": "code",
      "source": [
        "# Copia um arquivo, insira como argumento o nome do arquivo a ser copiado e o nome da pasta de destino na qual o arquivo será copiado.\n",
        "file.copy (\"new_csv_file.csv\", \"destination_folder\")"
      ],
      "metadata": {
        "colab": {
          "base_uri": "https://localhost:8080/",
          "height": 34
        },
        "id": "s6Fke4ypb7-s",
        "outputId": "cbdedd8e-d869-4744-f240-f228e10390e0"
      },
      "execution_count": null,
      "outputs": [
        {
          "output_type": "display_data",
          "data": {
            "text/html": [
              "FALSE"
            ],
            "text/markdown": "FALSE",
            "text/latex": "FALSE",
            "text/plain": [
              "[1] FALSE"
            ]
          },
          "metadata": {}
        }
      ]
    },
    {
      "cell_type": "markdown",
      "source": [
        "# Função unlink()"
      ],
      "metadata": {
        "id": "-eVnDpuucAbC"
      }
    },
    {
      "cell_type": "code",
      "source": [
        "# Excluir um arquivo.\n",
        "unlink (\"some_.file.csv\")"
      ],
      "metadata": {
        "id": "_1v7P7TCcBaE"
      },
      "execution_count": null,
      "outputs": []
    },
    {
      "cell_type": "markdown",
      "source": [
        "# Função matrix()\n",
        "Especificar o número de linhas ou de colunas nrow = ou ncol = , respectivamente."
      ],
      "metadata": {
        "id": "IqCOjmqbcDqU"
      }
    },
    {
      "cell_type": "code",
      "source": [
        "# Criar uma matriz, por linhas.\n",
        "matrix(c(3:8), nrow = 2)"
      ],
      "metadata": {
        "colab": {
          "base_uri": "https://localhost:8080/",
          "height": 132
        },
        "id": "4U0P9o-gcHFh",
        "outputId": "517db7c1-b2ec-45de-c0ab-cc6d60848d2a"
      },
      "execution_count": null,
      "outputs": [
        {
          "output_type": "display_data",
          "data": {
            "text/html": [
              "<table class=\"dataframe\">\n",
              "<caption>A matrix: 2 × 3 of type int</caption>\n",
              "<tbody>\n",
              "\t<tr><td>3</td><td>5</td><td>7</td></tr>\n",
              "\t<tr><td>4</td><td>6</td><td>8</td></tr>\n",
              "</tbody>\n",
              "</table>\n"
            ],
            "text/markdown": "\nA matrix: 2 × 3 of type int\n\n| 3 | 5 | 7 |\n| 4 | 6 | 8 |\n\n",
            "text/latex": "A matrix: 2 × 3 of type int\n\\begin{tabular}{lll}\n\t 3 & 5 & 7\\\\\n\t 4 & 6 & 8\\\\\n\\end{tabular}\n",
            "text/plain": [
              "     [,1] [,2] [,3]\n",
              "[1,] 3    5    7   \n",
              "[2,] 4    6    8   "
            ]
          },
          "metadata": {}
        }
      ]
    },
    {
      "cell_type": "code",
      "source": [
        "# Criar uma matriz, por colunas.\n",
        "matrix(c(3:8), ncol = 2)"
      ],
      "metadata": {
        "colab": {
          "base_uri": "https://localhost:8080/",
          "height": 198
        },
        "id": "YcW73qOocJ2R",
        "outputId": "8a1e8956-5cc2-4044-f7a6-18cfefe86f40"
      },
      "execution_count": null,
      "outputs": [
        {
          "output_type": "display_data",
          "data": {
            "text/html": [
              "<table class=\"dataframe\">\n",
              "<caption>A matrix: 3 × 2 of type int</caption>\n",
              "<tbody>\n",
              "\t<tr><td>3</td><td>6</td></tr>\n",
              "\t<tr><td>4</td><td>7</td></tr>\n",
              "\t<tr><td>5</td><td>8</td></tr>\n",
              "</tbody>\n",
              "</table>\n"
            ],
            "text/markdown": "\nA matrix: 3 × 2 of type int\n\n| 3 | 6 |\n| 4 | 7 |\n| 5 | 8 |\n\n",
            "text/latex": "A matrix: 3 × 2 of type int\n\\begin{tabular}{ll}\n\t 3 & 6\\\\\n\t 4 & 7\\\\\n\t 5 & 8\\\\\n\\end{tabular}\n",
            "text/plain": [
              "     [,1] [,2]\n",
              "[1,] 3    6   \n",
              "[2,] 4    7   \n",
              "[3,] 5    8   "
            ]
          },
          "metadata": {}
        }
      ]
    }
  ]
}
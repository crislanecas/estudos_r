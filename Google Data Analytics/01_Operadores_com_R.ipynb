{
  "nbformat": 4,
  "nbformat_minor": 0,
  "metadata": {
    "colab": {
      "provenance": [],
      "toc_visible": true,
      "authorship_tag": "ABX9TyPfedJGMCw+7f/KT16LdsOz",
      "include_colab_link": true
    },
    "kernelspec": {
      "name": "ir",
      "display_name": "R"
    },
    "language_info": {
      "name": "R"
    }
  },
  "cells": [
    {
      "cell_type": "markdown",
      "metadata": {
        "id": "view-in-github",
        "colab_type": "text"
      },
      "source": [
        "<a href=\"https://colab.research.google.com/github/crislanecas/estudos_r/blob/main/Google%20Data%20Analytics/01_Operadores_com_R.ipynb\" target=\"_parent\"><img src=\"https://colab.research.google.com/assets/colab-badge.svg\" alt=\"Open In Colab\"/></a>"
      ]
    },
    {
      "cell_type": "markdown",
      "source": [
        "# Operadores aritméticos\n",
        "Os exemplos usados abaixo são baseados na criação de duas variáveis x e y."
      ],
      "metadata": {
        "id": "OW46FK22Ka6M"
      }
    },
    {
      "cell_type": "code",
      "source": [
        "# Atribui valores as variáveis.\n",
        "x <- 2\n",
        "y <- 5"
      ],
      "metadata": {
        "id": "4HFFSO_CKdj-"
      },
      "execution_count": 1,
      "outputs": []
    },
    {
      "cell_type": "code",
      "source": [
        "# Soma.\n",
        "x + y"
      ],
      "metadata": {
        "colab": {
          "base_uri": "https://localhost:8080/",
          "height": 34
        },
        "id": "Uew1CQ4OKgPr",
        "outputId": "2f9d12c3-fe4e-4b98-f90a-8aa0f64486d9"
      },
      "execution_count": 2,
      "outputs": [
        {
          "output_type": "display_data",
          "data": {
            "text/html": [
              "7"
            ],
            "text/markdown": "7",
            "text/latex": "7",
            "text/plain": [
              "[1] 7"
            ]
          },
          "metadata": {}
        }
      ]
    },
    {
      "cell_type": "code",
      "source": [
        "# Subtraição.\n",
        "x - y"
      ],
      "metadata": {
        "colab": {
          "base_uri": "https://localhost:8080/",
          "height": 34
        },
        "id": "1f_vrAzlKhyG",
        "outputId": "f925a7c2-8697-429d-d9f4-6555a3dcce55"
      },
      "execution_count": 3,
      "outputs": [
        {
          "output_type": "display_data",
          "data": {
            "text/html": [
              "-3"
            ],
            "text/markdown": "-3",
            "text/latex": "-3",
            "text/plain": [
              "[1] -3"
            ]
          },
          "metadata": {}
        }
      ]
    },
    {
      "cell_type": "code",
      "source": [
        "# Miltiplicação.\n",
        "x * y"
      ],
      "metadata": {
        "colab": {
          "base_uri": "https://localhost:8080/",
          "height": 34
        },
        "id": "KfQvNrPzKjH1",
        "outputId": "86811ad7-9fa1-439d-e3a5-4c5e4974d6bc"
      },
      "execution_count": 4,
      "outputs": [
        {
          "output_type": "display_data",
          "data": {
            "text/html": [
              "10"
            ],
            "text/markdown": "10",
            "text/latex": "10",
            "text/plain": [
              "[1] 10"
            ]
          },
          "metadata": {}
        }
      ]
    },
    {
      "cell_type": "code",
      "source": [
        "# Divisão.\n",
        "x / y"
      ],
      "metadata": {
        "colab": {
          "base_uri": "https://localhost:8080/",
          "height": 34
        },
        "id": "5WpDOjxdKkWN",
        "outputId": "0c890dd6-eb5d-45c7-9ace-ee4e23432bdf"
      },
      "execution_count": 5,
      "outputs": [
        {
          "output_type": "display_data",
          "data": {
            "text/html": [
              "0.4"
            ],
            "text/markdown": "0.4",
            "text/latex": "0.4",
            "text/plain": [
              "[1] 0.4"
            ]
          },
          "metadata": {}
        }
      ]
    },
    {
      "cell_type": "code",
      "source": [
        "# Módulos (retorna o restante após a divisão).\n",
        "y %% x"
      ],
      "metadata": {
        "colab": {
          "base_uri": "https://localhost:8080/",
          "height": 34
        },
        "id": "4OUo26bCKlts",
        "outputId": "86b8b127-7b6c-43b2-b1a3-66188f7d05f1"
      },
      "execution_count": 6,
      "outputs": [
        {
          "output_type": "display_data",
          "data": {
            "text/html": [
              "1"
            ],
            "text/markdown": "1",
            "text/latex": "1",
            "text/plain": [
              "[1] 1"
            ]
          },
          "metadata": {}
        }
      ]
    },
    {
      "cell_type": "code",
      "source": [
        "# Divisão inteira (retorna um valor inteiro após a divisão).\n",
        "y%/% x"
      ],
      "metadata": {
        "colab": {
          "base_uri": "https://localhost:8080/",
          "height": 34
        },
        "id": "t5yTIM6cKncW",
        "outputId": "30834c5f-478e-48cc-a318-a17bc79ddaa0"
      },
      "execution_count": 7,
      "outputs": [
        {
          "output_type": "display_data",
          "data": {
            "text/html": [
              "2"
            ],
            "text/markdown": "2",
            "text/latex": "2",
            "text/plain": [
              "[1] 2"
            ]
          },
          "metadata": {}
        }
      ]
    },
    {
      "cell_type": "code",
      "source": [
        "# Exponenciação.\n",
        "y ^ x"
      ],
      "metadata": {
        "colab": {
          "base_uri": "https://localhost:8080/",
          "height": 34
        },
        "id": "6PTPLgXpKo2H",
        "outputId": "a0df2ac3-76f3-4546-ea86-5d0be37e165a"
      },
      "execution_count": 8,
      "outputs": [
        {
          "output_type": "display_data",
          "data": {
            "text/html": [
              "25"
            ],
            "text/markdown": "25",
            "text/latex": "25",
            "text/plain": [
              "[1] 25"
            ]
          },
          "metadata": {}
        }
      ]
    },
    {
      "cell_type": "markdown",
      "source": [
        "# Operadores relacionais ou de comparação"
      ],
      "metadata": {
        "id": "3GjasFZPKq5C"
      }
    },
    {
      "cell_type": "code",
      "source": [
        "# Menor que.\n",
        "x < y"
      ],
      "metadata": {
        "colab": {
          "base_uri": "https://localhost:8080/",
          "height": 34
        },
        "id": "cGI8RKI8Kr1P",
        "outputId": "ce66535a-e739-42be-e4cc-611d34a2f660"
      },
      "execution_count": 9,
      "outputs": [
        {
          "output_type": "display_data",
          "data": {
            "text/html": [
              "TRUE"
            ],
            "text/markdown": "TRUE",
            "text/latex": "TRUE",
            "text/plain": [
              "[1] TRUE"
            ]
          },
          "metadata": {}
        }
      ]
    },
    {
      "cell_type": "code",
      "source": [
        "# Maior que.\n",
        "x > y"
      ],
      "metadata": {
        "colab": {
          "base_uri": "https://localhost:8080/",
          "height": 34
        },
        "id": "KTG0yt2fKuLX",
        "outputId": "20370410-a115-4f1e-82b6-6168372e718d"
      },
      "execution_count": 10,
      "outputs": [
        {
          "output_type": "display_data",
          "data": {
            "text/html": [
              "FALSE"
            ],
            "text/markdown": "FALSE",
            "text/latex": "FALSE",
            "text/plain": [
              "[1] FALSE"
            ]
          },
          "metadata": {}
        }
      ]
    },
    {
      "cell_type": "code",
      "source": [
        "# Menor ou igual a.\n",
        "x <= 2"
      ],
      "metadata": {
        "colab": {
          "base_uri": "https://localhost:8080/",
          "height": 34
        },
        "id": "x-hwQIr6KvlO",
        "outputId": "0536997a-aa86-4050-b3a3-1b538d61daac"
      },
      "execution_count": 11,
      "outputs": [
        {
          "output_type": "display_data",
          "data": {
            "text/html": [
              "TRUE"
            ],
            "text/markdown": "TRUE",
            "text/latex": "TRUE",
            "text/plain": [
              "[1] TRUE"
            ]
          },
          "metadata": {}
        }
      ]
    },
    {
      "cell_type": "code",
      "source": [
        "# Maior ou igual a.\n",
        "y >= 10"
      ],
      "metadata": {
        "colab": {
          "base_uri": "https://localhost:8080/",
          "height": 34
        },
        "id": "6CaaIYNIKw28",
        "outputId": "ec677546-1025-4987-995c-5501136e879b"
      },
      "execution_count": 12,
      "outputs": [
        {
          "output_type": "display_data",
          "data": {
            "text/html": [
              "FALSE"
            ],
            "text/markdown": "FALSE",
            "text/latex": "FALSE",
            "text/plain": [
              "[1] FALSE"
            ]
          },
          "metadata": {}
        }
      ]
    },
    {
      "cell_type": "code",
      "source": [
        "# Igual a.\n",
        "y == 5"
      ],
      "metadata": {
        "colab": {
          "base_uri": "https://localhost:8080/",
          "height": 34
        },
        "id": "tNoiCpZCKyLV",
        "outputId": "49accfd5-b7da-4541-ddce-d071b025d3ae"
      },
      "execution_count": 13,
      "outputs": [
        {
          "output_type": "display_data",
          "data": {
            "text/html": [
              "TRUE"
            ],
            "text/markdown": "TRUE",
            "text/latex": "TRUE",
            "text/plain": [
              "[1] TRUE"
            ]
          },
          "metadata": {}
        }
      ]
    },
    {
      "cell_type": "code",
      "source": [
        "# Diferente de.\n",
        "x != 2"
      ],
      "metadata": {
        "colab": {
          "base_uri": "https://localhost:8080/",
          "height": 34
        },
        "id": "PWCHQVv2KzfE",
        "outputId": "f397c441-903f-4469-d810-7682503ff2b8"
      },
      "execution_count": 14,
      "outputs": [
        {
          "output_type": "display_data",
          "data": {
            "text/html": [
              "FALSE"
            ],
            "text/markdown": "FALSE",
            "text/latex": "FALSE",
            "text/plain": [
              "[1] FALSE"
            ]
          },
          "metadata": {}
        }
      ]
    },
    {
      "cell_type": "markdown",
      "source": [
        "# Operadores lógicos"
      ],
      "metadata": {
        "id": "vxyWS3BcK1rY"
      }
    },
    {
      "cell_type": "code",
      "source": [
        "# Atribui um novo valor a variável x.\n",
        "x <- 10"
      ],
      "metadata": {
        "id": "IcT3Ucv2K1RJ"
      },
      "execution_count": 15,
      "outputs": []
    },
    {
      "cell_type": "code",
      "source": [
        "# Operador lógico AND (& ou &&).\n",
        "x > 2 & x < 12"
      ],
      "metadata": {
        "colab": {
          "base_uri": "https://localhost:8080/",
          "height": 34
        },
        "id": "q049-haVK4eJ",
        "outputId": "187736ca-8061-431d-cbae-89fc11c50706"
      },
      "execution_count": 16,
      "outputs": [
        {
          "output_type": "display_data",
          "data": {
            "text/html": [
              "TRUE"
            ],
            "text/markdown": "TRUE",
            "text/latex": "TRUE",
            "text/plain": [
              "[1] TRUE"
            ]
          },
          "metadata": {}
        }
      ]
    },
    {
      "cell_type": "code",
      "source": [
        "# Operador lógico OR (| ou ||).\n",
        "x > 2 | x < 8"
      ],
      "metadata": {
        "colab": {
          "base_uri": "https://localhost:8080/",
          "height": 34
        },
        "id": "Yx1OHtXDK5zh",
        "outputId": "4ce57942-90d9-4152-84e6-fd1c529e2906"
      },
      "execution_count": 17,
      "outputs": [
        {
          "output_type": "display_data",
          "data": {
            "text/html": [
              "TRUE"
            ],
            "text/markdown": "TRUE",
            "text/latex": "TRUE",
            "text/plain": [
              "[1] TRUE"
            ]
          },
          "metadata": {}
        }
      ]
    },
    {
      "cell_type": "code",
      "source": [
        "# O operador NOT (!) basicamente inverte o valor lógico.\n",
        "!(x < 15)"
      ],
      "metadata": {
        "colab": {
          "base_uri": "https://localhost:8080/",
          "height": 34
        },
        "id": "bNgnAH4sLpCM",
        "outputId": "43a2a47c-d8d2-4322-a2eb-94550b043ebb"
      },
      "execution_count": 18,
      "outputs": [
        {
          "output_type": "display_data",
          "data": {
            "text/html": [
              "FALSE"
            ],
            "text/markdown": "FALSE",
            "text/latex": "FALSE",
            "text/plain": [
              "[1] FALSE"
            ]
          },
          "metadata": {}
        }
      ]
    },
    {
      "cell_type": "markdown",
      "source": [
        "# Operadores de atribuição"
      ],
      "metadata": {
        "id": "pjFGFdSPLslp"
      }
    },
    {
      "cell_type": "code",
      "source": [
        "# Atribuição à esquerda.\n",
        "x <- 2"
      ],
      "metadata": {
        "id": "dimYqAYALsHN"
      },
      "execution_count": 19,
      "outputs": []
    },
    {
      "cell_type": "code",
      "source": [
        "# Atribuição à esquerda.\n",
        "x <<- 7"
      ],
      "metadata": {
        "id": "6saKHcOlLyMj"
      },
      "execution_count": 20,
      "outputs": []
    },
    {
      "cell_type": "code",
      "source": [
        "# Atribuição à esquerda.\n",
        "x = 9"
      ],
      "metadata": {
        "id": "V6zgVl4MLzqc"
      },
      "execution_count": 21,
      "outputs": []
    },
    {
      "cell_type": "code",
      "source": [
        "# Atribuição à direita.\n",
        "11 -> x"
      ],
      "metadata": {
        "id": "5s8Q4I-kL0zb"
      },
      "execution_count": 22,
      "outputs": []
    },
    {
      "cell_type": "code",
      "source": [
        "# Atribuição à direita.\n",
        "21 ->> x"
      ],
      "metadata": {
        "id": "hAPRkZH8L2ZD"
      },
      "execution_count": 23,
      "outputs": []
    },
    {
      "cell_type": "markdown",
      "source": [
        "# Informações adicinais\n",
        "https://r-coder.com/operators-r/#Assignment_operators_in_R"
      ],
      "metadata": {
        "id": "FvewGED5L5HC"
      }
    }
  ]
}
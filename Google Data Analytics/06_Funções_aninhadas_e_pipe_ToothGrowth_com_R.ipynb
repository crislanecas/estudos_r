{
  "nbformat": 4,
  "nbformat_minor": 0,
  "metadata": {
    "colab": {
      "provenance": [],
      "toc_visible": true,
      "authorship_tag": "ABX9TyNwZ4XnWe4TDdvaRxplaFRR",
      "include_colab_link": true
    },
    "kernelspec": {
      "name": "ir",
      "display_name": "R"
    },
    "language_info": {
      "name": "R"
    }
  },
  "cells": [
    {
      "cell_type": "markdown",
      "metadata": {
        "id": "view-in-github",
        "colab_type": "text"
      },
      "source": [
        "<a href=\"https://colab.research.google.com/github/crislanecas/estudos_r/blob/main/Google%20Data%20Analytics/06_Fun%C3%A7%C3%B5es_aninhadas_e_pipe_ToothGrowth_com_R.ipynb\" target=\"_parent\"><img src=\"https://colab.research.google.com/assets/colab-badge.svg\" alt=\"Open In Colab\"/></a>"
      ]
    },
    {
      "cell_type": "markdown",
      "source": [
        "# Instalando pacotes"
      ],
      "metadata": {
        "id": "XZ3X1e6Gtzy1"
      }
    },
    {
      "cell_type": "code",
      "execution_count": 1,
      "metadata": {
        "colab": {
          "base_uri": "https://localhost:8080/"
        },
        "id": "_G3161ROtkSZ",
        "outputId": "90bb521d-4062-499d-a4f7-76aff0942d5a"
      },
      "outputs": [
        {
          "output_type": "stream",
          "name": "stderr",
          "text": [
            "Installing package into ‘/usr/local/lib/R/site-library’\n",
            "(as ‘lib’ is unspecified)\n",
            "\n",
            "── \u001b[1mAttaching core tidyverse packages\u001b[22m ──────────────────────── tidyverse 2.0.0 ──\n",
            "\u001b[32m✔\u001b[39m \u001b[34mdplyr    \u001b[39m 1.1.4     \u001b[32m✔\u001b[39m \u001b[34mreadr    \u001b[39m 2.1.5\n",
            "\u001b[32m✔\u001b[39m \u001b[34mforcats  \u001b[39m 1.0.0     \u001b[32m✔\u001b[39m \u001b[34mstringr  \u001b[39m 1.5.1\n",
            "\u001b[32m✔\u001b[39m \u001b[34mggplot2  \u001b[39m 3.4.4     \u001b[32m✔\u001b[39m \u001b[34mtibble   \u001b[39m 3.2.1\n",
            "\u001b[32m✔\u001b[39m \u001b[34mlubridate\u001b[39m 1.9.3     \u001b[32m✔\u001b[39m \u001b[34mtidyr    \u001b[39m 1.3.1\n",
            "\u001b[32m✔\u001b[39m \u001b[34mpurrr    \u001b[39m 1.0.2     \n",
            "── \u001b[1mConflicts\u001b[22m ────────────────────────────────────────── tidyverse_conflicts() ──\n",
            "\u001b[31m✖\u001b[39m \u001b[34mdplyr\u001b[39m::\u001b[32mfilter()\u001b[39m masks \u001b[34mstats\u001b[39m::filter()\n",
            "\u001b[31m✖\u001b[39m \u001b[34mdplyr\u001b[39m::\u001b[32mlag()\u001b[39m    masks \u001b[34mstats\u001b[39m::lag()\n",
            "\u001b[36mℹ\u001b[39m Use the conflicted package (\u001b[3m\u001b[34m<http://conflicted.r-lib.org/>\u001b[39m\u001b[23m) to force all conflicts to become errors\n"
          ]
        }
      ],
      "source": [
        "# Importa e carrega o pacote especificado.\n",
        "install.packages(\"tidyverse\")\n",
        "library(tidyverse)"
      ]
    },
    {
      "cell_type": "markdown",
      "source": [
        "# Importanto conjunto de dados\n",
        "Conjunto de dados ToothGrowth, pré-carregado do pacote tidyverse. Esse conjunto contém dados sobre a eficácia da vitamina C no crescimento de dentes em porquinhos-da-índia.\n",
        "\n",
        "Tipos de vitamina C usados no estudo:\n",
        "\n",
        "* OJ = Suco de laranja\n",
        "* VC = Ácido ascórbico."
      ],
      "metadata": {
        "id": "uNwFhLXuuSFP"
      }
    },
    {
      "cell_type": "markdown",
      "source": [
        "# Função data()"
      ],
      "metadata": {
        "id": "y4YYtvBXuq8b"
      }
    },
    {
      "cell_type": "code",
      "source": [
        "# Carrega o dataset pré-carregado.\n",
        "data(ToothGrowth)"
      ],
      "metadata": {
        "id": "ZMQuMxV4ueWS"
      },
      "execution_count": 2,
      "outputs": []
    },
    {
      "cell_type": "markdown",
      "source": [
        "# Função head()"
      ],
      "metadata": {
        "id": "ifnh9sBjuu9J"
      }
    },
    {
      "cell_type": "code",
      "source": [
        "# Mostra as primeiras linhas.\n",
        "head(ToothGrowth)"
      ],
      "metadata": {
        "colab": {
          "base_uri": "https://localhost:8080/",
          "height": 286
        },
        "id": "haKr1rikuxyW",
        "outputId": "ae5f648a-c9b7-4bdb-9ca6-5f10f0e808e4"
      },
      "execution_count": 3,
      "outputs": [
        {
          "output_type": "display_data",
          "data": {
            "text/html": [
              "<table class=\"dataframe\">\n",
              "<caption>A data.frame: 6 × 3</caption>\n",
              "<thead>\n",
              "\t<tr><th></th><th scope=col>len</th><th scope=col>supp</th><th scope=col>dose</th></tr>\n",
              "\t<tr><th></th><th scope=col>&lt;dbl&gt;</th><th scope=col>&lt;fct&gt;</th><th scope=col>&lt;dbl&gt;</th></tr>\n",
              "</thead>\n",
              "<tbody>\n",
              "\t<tr><th scope=row>1</th><td> 4.2</td><td>VC</td><td>0.5</td></tr>\n",
              "\t<tr><th scope=row>2</th><td>11.5</td><td>VC</td><td>0.5</td></tr>\n",
              "\t<tr><th scope=row>3</th><td> 7.3</td><td>VC</td><td>0.5</td></tr>\n",
              "\t<tr><th scope=row>4</th><td> 5.8</td><td>VC</td><td>0.5</td></tr>\n",
              "\t<tr><th scope=row>5</th><td> 6.4</td><td>VC</td><td>0.5</td></tr>\n",
              "\t<tr><th scope=row>6</th><td>10.0</td><td>VC</td><td>0.5</td></tr>\n",
              "</tbody>\n",
              "</table>\n"
            ],
            "text/markdown": "\nA data.frame: 6 × 3\n\n| <!--/--> | len &lt;dbl&gt; | supp &lt;fct&gt; | dose &lt;dbl&gt; |\n|---|---|---|---|\n| 1 |  4.2 | VC | 0.5 |\n| 2 | 11.5 | VC | 0.5 |\n| 3 |  7.3 | VC | 0.5 |\n| 4 |  5.8 | VC | 0.5 |\n| 5 |  6.4 | VC | 0.5 |\n| 6 | 10.0 | VC | 0.5 |\n\n",
            "text/latex": "A data.frame: 6 × 3\n\\begin{tabular}{r|lll}\n  & len & supp & dose\\\\\n  & <dbl> & <fct> & <dbl>\\\\\n\\hline\n\t1 &  4.2 & VC & 0.5\\\\\n\t2 & 11.5 & VC & 0.5\\\\\n\t3 &  7.3 & VC & 0.5\\\\\n\t4 &  5.8 & VC & 0.5\\\\\n\t5 &  6.4 & VC & 0.5\\\\\n\t6 & 10.0 & VC & 0.5\\\\\n\\end{tabular}\n",
            "text/plain": [
              "  len  supp dose\n",
              "1  4.2 VC   0.5 \n",
              "2 11.5 VC   0.5 \n",
              "3  7.3 VC   0.5 \n",
              "4  5.8 VC   0.5 \n",
              "5  6.4 VC   0.5 \n",
              "6 10.0 VC   0.5 "
            ]
          },
          "metadata": {}
        }
      ]
    },
    {
      "cell_type": "markdown",
      "source": [
        "# Opção 1 - Funções separadas"
      ],
      "metadata": {
        "id": "D4jdAT-_uzx5"
      }
    },
    {
      "cell_type": "markdown",
      "source": [
        "## Função filter()"
      ],
      "metadata": {
        "id": "x6m_UOi7u3j0"
      }
    },
    {
      "cell_type": "code",
      "source": [
        "# Filtra os dados, conforme especificações passada como parâmetros.\n",
        "filtered_tg <- filter(ToothGrowth, dose == 0.5)\n",
        "head(filtered_tg)"
      ],
      "metadata": {
        "colab": {
          "base_uri": "https://localhost:8080/",
          "height": 286
        },
        "id": "zl0bVIRTu5_P",
        "outputId": "09434ce4-15a6-45af-d968-96bbf97026a0"
      },
      "execution_count": 4,
      "outputs": [
        {
          "output_type": "display_data",
          "data": {
            "text/html": [
              "<table class=\"dataframe\">\n",
              "<caption>A data.frame: 6 × 3</caption>\n",
              "<thead>\n",
              "\t<tr><th></th><th scope=col>len</th><th scope=col>supp</th><th scope=col>dose</th></tr>\n",
              "\t<tr><th></th><th scope=col>&lt;dbl&gt;</th><th scope=col>&lt;fct&gt;</th><th scope=col>&lt;dbl&gt;</th></tr>\n",
              "</thead>\n",
              "<tbody>\n",
              "\t<tr><th scope=row>1</th><td> 4.2</td><td>VC</td><td>0.5</td></tr>\n",
              "\t<tr><th scope=row>2</th><td>11.5</td><td>VC</td><td>0.5</td></tr>\n",
              "\t<tr><th scope=row>3</th><td> 7.3</td><td>VC</td><td>0.5</td></tr>\n",
              "\t<tr><th scope=row>4</th><td> 5.8</td><td>VC</td><td>0.5</td></tr>\n",
              "\t<tr><th scope=row>5</th><td> 6.4</td><td>VC</td><td>0.5</td></tr>\n",
              "\t<tr><th scope=row>6</th><td>10.0</td><td>VC</td><td>0.5</td></tr>\n",
              "</tbody>\n",
              "</table>\n"
            ],
            "text/markdown": "\nA data.frame: 6 × 3\n\n| <!--/--> | len &lt;dbl&gt; | supp &lt;fct&gt; | dose &lt;dbl&gt; |\n|---|---|---|---|\n| 1 |  4.2 | VC | 0.5 |\n| 2 | 11.5 | VC | 0.5 |\n| 3 |  7.3 | VC | 0.5 |\n| 4 |  5.8 | VC | 0.5 |\n| 5 |  6.4 | VC | 0.5 |\n| 6 | 10.0 | VC | 0.5 |\n\n",
            "text/latex": "A data.frame: 6 × 3\n\\begin{tabular}{r|lll}\n  & len & supp & dose\\\\\n  & <dbl> & <fct> & <dbl>\\\\\n\\hline\n\t1 &  4.2 & VC & 0.5\\\\\n\t2 & 11.5 & VC & 0.5\\\\\n\t3 &  7.3 & VC & 0.5\\\\\n\t4 &  5.8 & VC & 0.5\\\\\n\t5 &  6.4 & VC & 0.5\\\\\n\t6 & 10.0 & VC & 0.5\\\\\n\\end{tabular}\n",
            "text/plain": [
              "  len  supp dose\n",
              "1  4.2 VC   0.5 \n",
              "2 11.5 VC   0.5 \n",
              "3  7.3 VC   0.5 \n",
              "4  5.8 VC   0.5 \n",
              "5  6.4 VC   0.5 \n",
              "6 10.0 VC   0.5 "
            ]
          },
          "metadata": {}
        }
      ]
    },
    {
      "cell_type": "markdown",
      "source": [
        "## Função arrange()"
      ],
      "metadata": {
        "id": "8HD5IUz7u846"
      }
    },
    {
      "cell_type": "code",
      "source": [
        "# Classifica o dataset filtrado acima, informando como argumento a coluna que irá classificar.\n",
        "arrange(filtered_tg, len)"
      ],
      "metadata": {
        "colab": {
          "base_uri": "https://localhost:8080/",
          "height": 725
        },
        "id": "X9wdE5Ddu-g_",
        "outputId": "8caaa02a-5e27-4d5b-9c5f-2b7b0f2a8e58"
      },
      "execution_count": 5,
      "outputs": [
        {
          "output_type": "display_data",
          "data": {
            "text/html": [
              "<table class=\"dataframe\">\n",
              "<caption>A data.frame: 20 × 3</caption>\n",
              "<thead>\n",
              "\t<tr><th scope=col>len</th><th scope=col>supp</th><th scope=col>dose</th></tr>\n",
              "\t<tr><th scope=col>&lt;dbl&gt;</th><th scope=col>&lt;fct&gt;</th><th scope=col>&lt;dbl&gt;</th></tr>\n",
              "</thead>\n",
              "<tbody>\n",
              "\t<tr><td> 4.2</td><td>VC</td><td>0.5</td></tr>\n",
              "\t<tr><td> 5.2</td><td>VC</td><td>0.5</td></tr>\n",
              "\t<tr><td> 5.8</td><td>VC</td><td>0.5</td></tr>\n",
              "\t<tr><td> 6.4</td><td>VC</td><td>0.5</td></tr>\n",
              "\t<tr><td> 7.0</td><td>VC</td><td>0.5</td></tr>\n",
              "\t<tr><td> 7.3</td><td>VC</td><td>0.5</td></tr>\n",
              "\t<tr><td> 8.2</td><td>OJ</td><td>0.5</td></tr>\n",
              "\t<tr><td> 9.4</td><td>OJ</td><td>0.5</td></tr>\n",
              "\t<tr><td> 9.7</td><td>OJ</td><td>0.5</td></tr>\n",
              "\t<tr><td> 9.7</td><td>OJ</td><td>0.5</td></tr>\n",
              "\t<tr><td>10.0</td><td>VC</td><td>0.5</td></tr>\n",
              "\t<tr><td>10.0</td><td>OJ</td><td>0.5</td></tr>\n",
              "\t<tr><td>11.2</td><td>VC</td><td>0.5</td></tr>\n",
              "\t<tr><td>11.2</td><td>VC</td><td>0.5</td></tr>\n",
              "\t<tr><td>11.5</td><td>VC</td><td>0.5</td></tr>\n",
              "\t<tr><td>14.5</td><td>OJ</td><td>0.5</td></tr>\n",
              "\t<tr><td>15.2</td><td>OJ</td><td>0.5</td></tr>\n",
              "\t<tr><td>16.5</td><td>OJ</td><td>0.5</td></tr>\n",
              "\t<tr><td>17.6</td><td>OJ</td><td>0.5</td></tr>\n",
              "\t<tr><td>21.5</td><td>OJ</td><td>0.5</td></tr>\n",
              "</tbody>\n",
              "</table>\n"
            ],
            "text/markdown": "\nA data.frame: 20 × 3\n\n| len &lt;dbl&gt; | supp &lt;fct&gt; | dose &lt;dbl&gt; |\n|---|---|---|\n|  4.2 | VC | 0.5 |\n|  5.2 | VC | 0.5 |\n|  5.8 | VC | 0.5 |\n|  6.4 | VC | 0.5 |\n|  7.0 | VC | 0.5 |\n|  7.3 | VC | 0.5 |\n|  8.2 | OJ | 0.5 |\n|  9.4 | OJ | 0.5 |\n|  9.7 | OJ | 0.5 |\n|  9.7 | OJ | 0.5 |\n| 10.0 | VC | 0.5 |\n| 10.0 | OJ | 0.5 |\n| 11.2 | VC | 0.5 |\n| 11.2 | VC | 0.5 |\n| 11.5 | VC | 0.5 |\n| 14.5 | OJ | 0.5 |\n| 15.2 | OJ | 0.5 |\n| 16.5 | OJ | 0.5 |\n| 17.6 | OJ | 0.5 |\n| 21.5 | OJ | 0.5 |\n\n",
            "text/latex": "A data.frame: 20 × 3\n\\begin{tabular}{lll}\n len & supp & dose\\\\\n <dbl> & <fct> & <dbl>\\\\\n\\hline\n\t  4.2 & VC & 0.5\\\\\n\t  5.2 & VC & 0.5\\\\\n\t  5.8 & VC & 0.5\\\\\n\t  6.4 & VC & 0.5\\\\\n\t  7.0 & VC & 0.5\\\\\n\t  7.3 & VC & 0.5\\\\\n\t  8.2 & OJ & 0.5\\\\\n\t  9.4 & OJ & 0.5\\\\\n\t  9.7 & OJ & 0.5\\\\\n\t  9.7 & OJ & 0.5\\\\\n\t 10.0 & VC & 0.5\\\\\n\t 10.0 & OJ & 0.5\\\\\n\t 11.2 & VC & 0.5\\\\\n\t 11.2 & VC & 0.5\\\\\n\t 11.5 & VC & 0.5\\\\\n\t 14.5 & OJ & 0.5\\\\\n\t 15.2 & OJ & 0.5\\\\\n\t 16.5 & OJ & 0.5\\\\\n\t 17.6 & OJ & 0.5\\\\\n\t 21.5 & OJ & 0.5\\\\\n\\end{tabular}\n",
            "text/plain": [
              "   len  supp dose\n",
              "1   4.2 VC   0.5 \n",
              "2   5.2 VC   0.5 \n",
              "3   5.8 VC   0.5 \n",
              "4   6.4 VC   0.5 \n",
              "5   7.0 VC   0.5 \n",
              "6   7.3 VC   0.5 \n",
              "7   8.2 OJ   0.5 \n",
              "8   9.4 OJ   0.5 \n",
              "9   9.7 OJ   0.5 \n",
              "10  9.7 OJ   0.5 \n",
              "11 10.0 VC   0.5 \n",
              "12 10.0 OJ   0.5 \n",
              "13 11.2 VC   0.5 \n",
              "14 11.2 VC   0.5 \n",
              "15 11.5 VC   0.5 \n",
              "16 14.5 OJ   0.5 \n",
              "17 15.2 OJ   0.5 \n",
              "18 16.5 OJ   0.5 \n",
              "19 17.6 OJ   0.5 \n",
              "20 21.5 OJ   0.5 "
            ]
          },
          "metadata": {}
        }
      ]
    },
    {
      "cell_type": "markdown",
      "source": [
        "# Opção 2 - Função aninhada"
      ],
      "metadata": {
        "id": "MFakSIY2vAfj"
      }
    },
    {
      "cell_type": "code",
      "source": [
        "# Obtem o mesmo resultado acima de filtro e classificação dos dados.\n",
        "# Utilizando a função aninhada, que é uma função totalmente interna a outra função.\n",
        "arrange(filter(filtered_tg, dose == 0.5), len)"
      ],
      "metadata": {
        "colab": {
          "base_uri": "https://localhost:8080/",
          "height": 725
        },
        "id": "Y_TqEvfHvDVB",
        "outputId": "42a30ea4-3ced-443a-b29c-de5514892e6c"
      },
      "execution_count": 6,
      "outputs": [
        {
          "output_type": "display_data",
          "data": {
            "text/html": [
              "<table class=\"dataframe\">\n",
              "<caption>A data.frame: 20 × 3</caption>\n",
              "<thead>\n",
              "\t<tr><th scope=col>len</th><th scope=col>supp</th><th scope=col>dose</th></tr>\n",
              "\t<tr><th scope=col>&lt;dbl&gt;</th><th scope=col>&lt;fct&gt;</th><th scope=col>&lt;dbl&gt;</th></tr>\n",
              "</thead>\n",
              "<tbody>\n",
              "\t<tr><td> 4.2</td><td>VC</td><td>0.5</td></tr>\n",
              "\t<tr><td> 5.2</td><td>VC</td><td>0.5</td></tr>\n",
              "\t<tr><td> 5.8</td><td>VC</td><td>0.5</td></tr>\n",
              "\t<tr><td> 6.4</td><td>VC</td><td>0.5</td></tr>\n",
              "\t<tr><td> 7.0</td><td>VC</td><td>0.5</td></tr>\n",
              "\t<tr><td> 7.3</td><td>VC</td><td>0.5</td></tr>\n",
              "\t<tr><td> 8.2</td><td>OJ</td><td>0.5</td></tr>\n",
              "\t<tr><td> 9.4</td><td>OJ</td><td>0.5</td></tr>\n",
              "\t<tr><td> 9.7</td><td>OJ</td><td>0.5</td></tr>\n",
              "\t<tr><td> 9.7</td><td>OJ</td><td>0.5</td></tr>\n",
              "\t<tr><td>10.0</td><td>VC</td><td>0.5</td></tr>\n",
              "\t<tr><td>10.0</td><td>OJ</td><td>0.5</td></tr>\n",
              "\t<tr><td>11.2</td><td>VC</td><td>0.5</td></tr>\n",
              "\t<tr><td>11.2</td><td>VC</td><td>0.5</td></tr>\n",
              "\t<tr><td>11.5</td><td>VC</td><td>0.5</td></tr>\n",
              "\t<tr><td>14.5</td><td>OJ</td><td>0.5</td></tr>\n",
              "\t<tr><td>15.2</td><td>OJ</td><td>0.5</td></tr>\n",
              "\t<tr><td>16.5</td><td>OJ</td><td>0.5</td></tr>\n",
              "\t<tr><td>17.6</td><td>OJ</td><td>0.5</td></tr>\n",
              "\t<tr><td>21.5</td><td>OJ</td><td>0.5</td></tr>\n",
              "</tbody>\n",
              "</table>\n"
            ],
            "text/markdown": "\nA data.frame: 20 × 3\n\n| len &lt;dbl&gt; | supp &lt;fct&gt; | dose &lt;dbl&gt; |\n|---|---|---|\n|  4.2 | VC | 0.5 |\n|  5.2 | VC | 0.5 |\n|  5.8 | VC | 0.5 |\n|  6.4 | VC | 0.5 |\n|  7.0 | VC | 0.5 |\n|  7.3 | VC | 0.5 |\n|  8.2 | OJ | 0.5 |\n|  9.4 | OJ | 0.5 |\n|  9.7 | OJ | 0.5 |\n|  9.7 | OJ | 0.5 |\n| 10.0 | VC | 0.5 |\n| 10.0 | OJ | 0.5 |\n| 11.2 | VC | 0.5 |\n| 11.2 | VC | 0.5 |\n| 11.5 | VC | 0.5 |\n| 14.5 | OJ | 0.5 |\n| 15.2 | OJ | 0.5 |\n| 16.5 | OJ | 0.5 |\n| 17.6 | OJ | 0.5 |\n| 21.5 | OJ | 0.5 |\n\n",
            "text/latex": "A data.frame: 20 × 3\n\\begin{tabular}{lll}\n len & supp & dose\\\\\n <dbl> & <fct> & <dbl>\\\\\n\\hline\n\t  4.2 & VC & 0.5\\\\\n\t  5.2 & VC & 0.5\\\\\n\t  5.8 & VC & 0.5\\\\\n\t  6.4 & VC & 0.5\\\\\n\t  7.0 & VC & 0.5\\\\\n\t  7.3 & VC & 0.5\\\\\n\t  8.2 & OJ & 0.5\\\\\n\t  9.4 & OJ & 0.5\\\\\n\t  9.7 & OJ & 0.5\\\\\n\t  9.7 & OJ & 0.5\\\\\n\t 10.0 & VC & 0.5\\\\\n\t 10.0 & OJ & 0.5\\\\\n\t 11.2 & VC & 0.5\\\\\n\t 11.2 & VC & 0.5\\\\\n\t 11.5 & VC & 0.5\\\\\n\t 14.5 & OJ & 0.5\\\\\n\t 15.2 & OJ & 0.5\\\\\n\t 16.5 & OJ & 0.5\\\\\n\t 17.6 & OJ & 0.5\\\\\n\t 21.5 & OJ & 0.5\\\\\n\\end{tabular}\n",
            "text/plain": [
              "   len  supp dose\n",
              "1   4.2 VC   0.5 \n",
              "2   5.2 VC   0.5 \n",
              "3   5.8 VC   0.5 \n",
              "4   6.4 VC   0.5 \n",
              "5   7.0 VC   0.5 \n",
              "6   7.3 VC   0.5 \n",
              "7   8.2 OJ   0.5 \n",
              "8   9.4 OJ   0.5 \n",
              "9   9.7 OJ   0.5 \n",
              "10  9.7 OJ   0.5 \n",
              "11 10.0 VC   0.5 \n",
              "12 10.0 OJ   0.5 \n",
              "13 11.2 VC   0.5 \n",
              "14 11.2 VC   0.5 \n",
              "15 11.5 VC   0.5 \n",
              "16 14.5 OJ   0.5 \n",
              "17 15.2 OJ   0.5 \n",
              "18 16.5 OJ   0.5 \n",
              "19 17.6 OJ   0.5 \n",
              "20 21.5 OJ   0.5 "
            ]
          },
          "metadata": {}
        }
      ]
    },
    {
      "cell_type": "markdown",
      "source": [
        "# Opção 3 - Pipe"
      ],
      "metadata": {
        "id": "UjF8xU1LvFWl"
      }
    },
    {
      "cell_type": "code",
      "source": [
        "# Obtem o mesmo resultado acima de filtro e classificação dos dados.\n",
        "# Utilizando pipe para executar a função conforme sequência.\n",
        "filtered_toothgrowth <- ToothGrowth %>%\n",
        "  filter(dose == 0.5) %>%\n",
        "  arrange(len)"
      ],
      "metadata": {
        "id": "257sbmeNvH5N"
      },
      "execution_count": 8,
      "outputs": []
    },
    {
      "cell_type": "code",
      "source": [
        "filtered_toothgrowth"
      ],
      "metadata": {
        "colab": {
          "base_uri": "https://localhost:8080/",
          "height": 725
        },
        "id": "uavJbklnwMa3",
        "outputId": "f092bfe8-eece-41f2-eb26-56b569b4406c"
      },
      "execution_count": 9,
      "outputs": [
        {
          "output_type": "display_data",
          "data": {
            "text/html": [
              "<table class=\"dataframe\">\n",
              "<caption>A data.frame: 20 × 3</caption>\n",
              "<thead>\n",
              "\t<tr><th scope=col>len</th><th scope=col>supp</th><th scope=col>dose</th></tr>\n",
              "\t<tr><th scope=col>&lt;dbl&gt;</th><th scope=col>&lt;fct&gt;</th><th scope=col>&lt;dbl&gt;</th></tr>\n",
              "</thead>\n",
              "<tbody>\n",
              "\t<tr><td> 4.2</td><td>VC</td><td>0.5</td></tr>\n",
              "\t<tr><td> 5.2</td><td>VC</td><td>0.5</td></tr>\n",
              "\t<tr><td> 5.8</td><td>VC</td><td>0.5</td></tr>\n",
              "\t<tr><td> 6.4</td><td>VC</td><td>0.5</td></tr>\n",
              "\t<tr><td> 7.0</td><td>VC</td><td>0.5</td></tr>\n",
              "\t<tr><td> 7.3</td><td>VC</td><td>0.5</td></tr>\n",
              "\t<tr><td> 8.2</td><td>OJ</td><td>0.5</td></tr>\n",
              "\t<tr><td> 9.4</td><td>OJ</td><td>0.5</td></tr>\n",
              "\t<tr><td> 9.7</td><td>OJ</td><td>0.5</td></tr>\n",
              "\t<tr><td> 9.7</td><td>OJ</td><td>0.5</td></tr>\n",
              "\t<tr><td>10.0</td><td>VC</td><td>0.5</td></tr>\n",
              "\t<tr><td>10.0</td><td>OJ</td><td>0.5</td></tr>\n",
              "\t<tr><td>11.2</td><td>VC</td><td>0.5</td></tr>\n",
              "\t<tr><td>11.2</td><td>VC</td><td>0.5</td></tr>\n",
              "\t<tr><td>11.5</td><td>VC</td><td>0.5</td></tr>\n",
              "\t<tr><td>14.5</td><td>OJ</td><td>0.5</td></tr>\n",
              "\t<tr><td>15.2</td><td>OJ</td><td>0.5</td></tr>\n",
              "\t<tr><td>16.5</td><td>OJ</td><td>0.5</td></tr>\n",
              "\t<tr><td>17.6</td><td>OJ</td><td>0.5</td></tr>\n",
              "\t<tr><td>21.5</td><td>OJ</td><td>0.5</td></tr>\n",
              "</tbody>\n",
              "</table>\n"
            ],
            "text/markdown": "\nA data.frame: 20 × 3\n\n| len &lt;dbl&gt; | supp &lt;fct&gt; | dose &lt;dbl&gt; |\n|---|---|---|\n|  4.2 | VC | 0.5 |\n|  5.2 | VC | 0.5 |\n|  5.8 | VC | 0.5 |\n|  6.4 | VC | 0.5 |\n|  7.0 | VC | 0.5 |\n|  7.3 | VC | 0.5 |\n|  8.2 | OJ | 0.5 |\n|  9.4 | OJ | 0.5 |\n|  9.7 | OJ | 0.5 |\n|  9.7 | OJ | 0.5 |\n| 10.0 | VC | 0.5 |\n| 10.0 | OJ | 0.5 |\n| 11.2 | VC | 0.5 |\n| 11.2 | VC | 0.5 |\n| 11.5 | VC | 0.5 |\n| 14.5 | OJ | 0.5 |\n| 15.2 | OJ | 0.5 |\n| 16.5 | OJ | 0.5 |\n| 17.6 | OJ | 0.5 |\n| 21.5 | OJ | 0.5 |\n\n",
            "text/latex": "A data.frame: 20 × 3\n\\begin{tabular}{lll}\n len & supp & dose\\\\\n <dbl> & <fct> & <dbl>\\\\\n\\hline\n\t  4.2 & VC & 0.5\\\\\n\t  5.2 & VC & 0.5\\\\\n\t  5.8 & VC & 0.5\\\\\n\t  6.4 & VC & 0.5\\\\\n\t  7.0 & VC & 0.5\\\\\n\t  7.3 & VC & 0.5\\\\\n\t  8.2 & OJ & 0.5\\\\\n\t  9.4 & OJ & 0.5\\\\\n\t  9.7 & OJ & 0.5\\\\\n\t  9.7 & OJ & 0.5\\\\\n\t 10.0 & VC & 0.5\\\\\n\t 10.0 & OJ & 0.5\\\\\n\t 11.2 & VC & 0.5\\\\\n\t 11.2 & VC & 0.5\\\\\n\t 11.5 & VC & 0.5\\\\\n\t 14.5 & OJ & 0.5\\\\\n\t 15.2 & OJ & 0.5\\\\\n\t 16.5 & OJ & 0.5\\\\\n\t 17.6 & OJ & 0.5\\\\\n\t 21.5 & OJ & 0.5\\\\\n\\end{tabular}\n",
            "text/plain": [
              "   len  supp dose\n",
              "1   4.2 VC   0.5 \n",
              "2   5.2 VC   0.5 \n",
              "3   5.8 VC   0.5 \n",
              "4   6.4 VC   0.5 \n",
              "5   7.0 VC   0.5 \n",
              "6   7.3 VC   0.5 \n",
              "7   8.2 OJ   0.5 \n",
              "8   9.4 OJ   0.5 \n",
              "9   9.7 OJ   0.5 \n",
              "10  9.7 OJ   0.5 \n",
              "11 10.0 VC   0.5 \n",
              "12 10.0 OJ   0.5 \n",
              "13 11.2 VC   0.5 \n",
              "14 11.2 VC   0.5 \n",
              "15 11.5 VC   0.5 \n",
              "16 14.5 OJ   0.5 \n",
              "17 15.2 OJ   0.5 \n",
              "18 16.5 OJ   0.5 \n",
              "19 17.6 OJ   0.5 \n",
              "20 21.5 OJ   0.5 "
            ]
          },
          "metadata": {}
        }
      ]
    },
    {
      "cell_type": "markdown",
      "source": [
        "## Função group_by()"
      ],
      "metadata": {
        "id": "qILtLYJjvKbT"
      }
    },
    {
      "cell_type": "code",
      "source": [
        "# Calcula o comprimento médio do dente quando a dose for igual a 0,5 para cada um dos suplementos.\n",
        "# Utilizando pipe para executar a função conforme sequência.\n",
        "filtered_toothgrowth <- ToothGrowth %>%\n",
        "  filter(dose == 0.5) %>%\n",
        "  group_by(supp) %>%\n",
        "  summarize(mean_len = mean(len, na.rm = T), .group=\"drop\")"
      ],
      "metadata": {
        "id": "XhzlqaNZvJ4f"
      },
      "execution_count": 10,
      "outputs": []
    },
    {
      "cell_type": "code",
      "source": [
        "filtered_toothgrowth"
      ],
      "metadata": {
        "colab": {
          "base_uri": "https://localhost:8080/",
          "height": 161
        },
        "id": "a9SXYSaBvRwp",
        "outputId": "57962d51-8837-4ed0-9135-ae60e3377c48"
      },
      "execution_count": 11,
      "outputs": [
        {
          "output_type": "display_data",
          "data": {
            "text/html": [
              "<table class=\"dataframe\">\n",
              "<caption>A tibble: 2 × 3</caption>\n",
              "<thead>\n",
              "\t<tr><th scope=col>supp</th><th scope=col>mean_len</th><th scope=col>.group</th></tr>\n",
              "\t<tr><th scope=col>&lt;fct&gt;</th><th scope=col>&lt;dbl&gt;</th><th scope=col>&lt;chr&gt;</th></tr>\n",
              "</thead>\n",
              "<tbody>\n",
              "\t<tr><td>OJ</td><td>13.23</td><td>drop</td></tr>\n",
              "\t<tr><td>VC</td><td> 7.98</td><td>drop</td></tr>\n",
              "</tbody>\n",
              "</table>\n"
            ],
            "text/markdown": "\nA tibble: 2 × 3\n\n| supp &lt;fct&gt; | mean_len &lt;dbl&gt; | .group &lt;chr&gt; |\n|---|---|---|\n| OJ | 13.23 | drop |\n| VC |  7.98 | drop |\n\n",
            "text/latex": "A tibble: 2 × 3\n\\begin{tabular}{lll}\n supp & mean\\_len & .group\\\\\n <fct> & <dbl> & <chr>\\\\\n\\hline\n\t OJ & 13.23 & drop\\\\\n\t VC &  7.98 & drop\\\\\n\\end{tabular}\n",
            "text/plain": [
              "  supp mean_len .group\n",
              "1 OJ   13.23    drop  \n",
              "2 VC    7.98    drop  "
            ]
          },
          "metadata": {}
        }
      ]
    }
  ]
}
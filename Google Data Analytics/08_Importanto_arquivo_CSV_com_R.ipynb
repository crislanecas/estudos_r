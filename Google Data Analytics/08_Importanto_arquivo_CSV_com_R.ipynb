{
  "nbformat": 4,
  "nbformat_minor": 0,
  "metadata": {
    "colab": {
      "provenance": [],
      "toc_visible": true,
      "authorship_tag": "ABX9TyOugDph4xgS3DzsyvAyIc2+",
      "include_colab_link": true
    },
    "kernelspec": {
      "name": "ir",
      "display_name": "R"
    },
    "language_info": {
      "name": "R"
    }
  },
  "cells": [
    {
      "cell_type": "markdown",
      "metadata": {
        "id": "view-in-github",
        "colab_type": "text"
      },
      "source": [
        "<a href=\"https://colab.research.google.com/github/crislanecas/estudos_r/blob/main/Google%20Data%20Analytics/08_Importanto_arquivo_CSV_com_R.ipynb\" target=\"_parent\"><img src=\"https://colab.research.google.com/assets/colab-badge.svg\" alt=\"Open In Colab\"/></a>"
      ]
    },
    {
      "cell_type": "markdown",
      "source": [
        "# Instalando pacotes"
      ],
      "metadata": {
        "id": "I5Ay9uQk1Ny5"
      }
    },
    {
      "cell_type": "code",
      "execution_count": null,
      "metadata": {
        "colab": {
          "base_uri": "https://localhost:8080/"
        },
        "id": "YOLHG33J1IJh",
        "outputId": "b3aa4cd5-ec42-452d-ff29-b0d3619f2140"
      },
      "outputs": [
        {
          "output_type": "stream",
          "name": "stderr",
          "text": [
            "Installing package into ‘/usr/local/lib/R/site-library’\n",
            "(as ‘lib’ is unspecified)\n",
            "\n",
            "── \u001b[1mAttaching core tidyverse packages\u001b[22m ──────────────────────── tidyverse 2.0.0 ──\n",
            "\u001b[32m✔\u001b[39m \u001b[34mdplyr    \u001b[39m 1.1.4     \u001b[32m✔\u001b[39m \u001b[34mreadr    \u001b[39m 2.1.5\n",
            "\u001b[32m✔\u001b[39m \u001b[34mforcats  \u001b[39m 1.0.0     \u001b[32m✔\u001b[39m \u001b[34mstringr  \u001b[39m 1.5.1\n",
            "\u001b[32m✔\u001b[39m \u001b[34mggplot2  \u001b[39m 3.4.4     \u001b[32m✔\u001b[39m \u001b[34mtibble   \u001b[39m 3.2.1\n",
            "\u001b[32m✔\u001b[39m \u001b[34mlubridate\u001b[39m 1.9.3     \u001b[32m✔\u001b[39m \u001b[34mtidyr    \u001b[39m 1.3.1\n",
            "\u001b[32m✔\u001b[39m \u001b[34mpurrr    \u001b[39m 1.0.2     \n",
            "── \u001b[1mConflicts\u001b[22m ────────────────────────────────────────── tidyverse_conflicts() ──\n",
            "\u001b[31m✖\u001b[39m \u001b[34mdplyr\u001b[39m::\u001b[32mfilter()\u001b[39m masks \u001b[34mstats\u001b[39m::filter()\n",
            "\u001b[31m✖\u001b[39m \u001b[34mdplyr\u001b[39m::\u001b[32mlag()\u001b[39m    masks \u001b[34mstats\u001b[39m::lag()\n",
            "\u001b[36mℹ\u001b[39m Use the conflicted package (\u001b[3m\u001b[34m<http://conflicted.r-lib.org/>\u001b[39m\u001b[23m) to force all conflicts to become errors\n"
          ]
        }
      ],
      "source": [
        "# Importa e carrega o pacote especificado.\n",
        "install.packages(\"tidyverse\")\n",
        "library(tidyverse)"
      ]
    },
    {
      "cell_type": "markdown",
      "source": [
        "# Função read_csv()"
      ],
      "metadata": {
        "id": "3LXjcuEv1YYs"
      }
    },
    {
      "cell_type": "code",
      "source": [
        "# Importa o arquivo csv.\n",
        "bookings_df <- read_csv(\"hotel_bookings.csv\")"
      ],
      "metadata": {
        "colab": {
          "base_uri": "https://localhost:8080/"
        },
        "id": "hxPDwPik1bqG",
        "outputId": "59c822a5-511a-4204-f387-0d2d966755f3"
      },
      "execution_count": null,
      "outputs": [
        {
          "output_type": "stream",
          "name": "stderr",
          "text": [
            "\u001b[1mRows: \u001b[22m\u001b[34m21949\u001b[39m \u001b[1mColumns: \u001b[22m\u001b[34m32\u001b[39m\n",
            "\u001b[36m──\u001b[39m \u001b[1mColumn specification\u001b[22m \u001b[36m────────────────────────────────────────────────────────\u001b[39m\n",
            "\u001b[1mDelimiter:\u001b[22m \",\"\n",
            "\u001b[31mchr\u001b[39m  (13): hotel, arrival_date_month, meal, country, market_segment, distrib...\n",
            "\u001b[32mdbl\u001b[39m  (18): is_canceled, lead_time, arrival_date_year, arrival_date_week_numb...\n",
            "\u001b[34mdate\u001b[39m  (1): reservation_status_date\n",
            "\n",
            "\u001b[36mℹ\u001b[39m Use `spec()` to retrieve the full column specification for this data.\n",
            "\u001b[36mℹ\u001b[39m Specify the column types or set `show_col_types = FALSE` to quiet this message.\n"
          ]
        }
      ]
    },
    {
      "cell_type": "markdown",
      "source": [
        "# Funções para exibir dados"
      ],
      "metadata": {
        "id": "B6BQy4GE1dtj"
      }
    },
    {
      "cell_type": "markdown",
      "source": [
        "## Função head()"
      ],
      "metadata": {
        "id": "mQUA2KUo1fmf"
      }
    },
    {
      "cell_type": "code",
      "source": [
        "# Mostra as primeiras linhas do dataset.\n",
        "head(bookings_df)"
      ],
      "metadata": {
        "colab": {
          "base_uri": "https://localhost:8080/",
          "height": 410
        },
        "id": "DlXqSyn41hoX",
        "outputId": "d81eafdd-55c6-4ba0-e1df-8b6497daef4a"
      },
      "execution_count": null,
      "outputs": [
        {
          "output_type": "display_data",
          "data": {
            "text/html": [
              "<table class=\"dataframe\">\n",
              "<caption>A tibble: 6 × 32</caption>\n",
              "<thead>\n",
              "\t<tr><th scope=col>hotel</th><th scope=col>is_canceled</th><th scope=col>lead_time</th><th scope=col>arrival_date_year</th><th scope=col>arrival_date_month</th><th scope=col>arrival_date_week_number</th><th scope=col>arrival_date_day_of_month</th><th scope=col>stays_in_weekend_nights</th><th scope=col>stays_in_week_nights</th><th scope=col>adults</th><th scope=col>⋯</th><th scope=col>deposit_type</th><th scope=col>agent</th><th scope=col>company</th><th scope=col>days_in_waiting_list</th><th scope=col>customer_type</th><th scope=col>adr</th><th scope=col>required_car_parking_spaces</th><th scope=col>total_of_special_requests</th><th scope=col>reservation_status</th><th scope=col>reservation_status_date</th></tr>\n",
              "\t<tr><th scope=col>&lt;chr&gt;</th><th scope=col>&lt;dbl&gt;</th><th scope=col>&lt;dbl&gt;</th><th scope=col>&lt;dbl&gt;</th><th scope=col>&lt;chr&gt;</th><th scope=col>&lt;dbl&gt;</th><th scope=col>&lt;dbl&gt;</th><th scope=col>&lt;dbl&gt;</th><th scope=col>&lt;dbl&gt;</th><th scope=col>&lt;dbl&gt;</th><th scope=col>⋯</th><th scope=col>&lt;chr&gt;</th><th scope=col>&lt;chr&gt;</th><th scope=col>&lt;chr&gt;</th><th scope=col>&lt;dbl&gt;</th><th scope=col>&lt;chr&gt;</th><th scope=col>&lt;dbl&gt;</th><th scope=col>&lt;dbl&gt;</th><th scope=col>&lt;dbl&gt;</th><th scope=col>&lt;chr&gt;</th><th scope=col>&lt;date&gt;</th></tr>\n",
              "</thead>\n",
              "<tbody>\n",
              "\t<tr><td>Resort Hotel</td><td>0</td><td>342</td><td>2015</td><td>July</td><td>27</td><td>1</td><td>0</td><td>0</td><td>2</td><td>⋯</td><td>No Deposit</td><td>NULL</td><td>NULL</td><td>0</td><td>Transient</td><td> 0</td><td>0</td><td>0</td><td>Check-Out</td><td>2015-07-01</td></tr>\n",
              "\t<tr><td>Resort Hotel</td><td>0</td><td>737</td><td>2015</td><td>July</td><td>27</td><td>1</td><td>0</td><td>0</td><td>2</td><td>⋯</td><td>No Deposit</td><td>NULL</td><td>NULL</td><td>0</td><td>Transient</td><td> 0</td><td>0</td><td>0</td><td>Check-Out</td><td>2015-07-01</td></tr>\n",
              "\t<tr><td>Resort Hotel</td><td>0</td><td>  7</td><td>2015</td><td>July</td><td>27</td><td>1</td><td>0</td><td>1</td><td>1</td><td>⋯</td><td>No Deposit</td><td>NULL</td><td>NULL</td><td>0</td><td>Transient</td><td>75</td><td>0</td><td>0</td><td>Check-Out</td><td>2015-07-02</td></tr>\n",
              "\t<tr><td>Resort Hotel</td><td>0</td><td> 13</td><td>2015</td><td>July</td><td>27</td><td>1</td><td>0</td><td>1</td><td>1</td><td>⋯</td><td>No Deposit</td><td>304 </td><td>NULL</td><td>0</td><td>Transient</td><td>75</td><td>0</td><td>0</td><td>Check-Out</td><td>2015-07-02</td></tr>\n",
              "\t<tr><td>Resort Hotel</td><td>0</td><td> 14</td><td>2015</td><td>July</td><td>27</td><td>1</td><td>0</td><td>2</td><td>2</td><td>⋯</td><td>No Deposit</td><td>240 </td><td>NULL</td><td>0</td><td>Transient</td><td>98</td><td>0</td><td>1</td><td>Check-Out</td><td>2015-07-03</td></tr>\n",
              "\t<tr><td>Resort Hotel</td><td>0</td><td> 14</td><td>2015</td><td>July</td><td>27</td><td>1</td><td>0</td><td>2</td><td>2</td><td>⋯</td><td>No Deposit</td><td>240 </td><td>NULL</td><td>0</td><td>Transient</td><td>98</td><td>0</td><td>1</td><td>Check-Out</td><td>2015-07-03</td></tr>\n",
              "</tbody>\n",
              "</table>\n"
            ],
            "text/markdown": "\nA tibble: 6 × 32\n\n| hotel &lt;chr&gt; | is_canceled &lt;dbl&gt; | lead_time &lt;dbl&gt; | arrival_date_year &lt;dbl&gt; | arrival_date_month &lt;chr&gt; | arrival_date_week_number &lt;dbl&gt; | arrival_date_day_of_month &lt;dbl&gt; | stays_in_weekend_nights &lt;dbl&gt; | stays_in_week_nights &lt;dbl&gt; | adults &lt;dbl&gt; | ⋯ ⋯ | deposit_type &lt;chr&gt; | agent &lt;chr&gt; | company &lt;chr&gt; | days_in_waiting_list &lt;dbl&gt; | customer_type &lt;chr&gt; | adr &lt;dbl&gt; | required_car_parking_spaces &lt;dbl&gt; | total_of_special_requests &lt;dbl&gt; | reservation_status &lt;chr&gt; | reservation_status_date &lt;date&gt; |\n|---|---|---|---|---|---|---|---|---|---|---|---|---|---|---|---|---|---|---|---|---|\n| Resort Hotel | 0 | 342 | 2015 | July | 27 | 1 | 0 | 0 | 2 | ⋯ | No Deposit | NULL | NULL | 0 | Transient |  0 | 0 | 0 | Check-Out | 2015-07-01 |\n| Resort Hotel | 0 | 737 | 2015 | July | 27 | 1 | 0 | 0 | 2 | ⋯ | No Deposit | NULL | NULL | 0 | Transient |  0 | 0 | 0 | Check-Out | 2015-07-01 |\n| Resort Hotel | 0 |   7 | 2015 | July | 27 | 1 | 0 | 1 | 1 | ⋯ | No Deposit | NULL | NULL | 0 | Transient | 75 | 0 | 0 | Check-Out | 2015-07-02 |\n| Resort Hotel | 0 |  13 | 2015 | July | 27 | 1 | 0 | 1 | 1 | ⋯ | No Deposit | 304  | NULL | 0 | Transient | 75 | 0 | 0 | Check-Out | 2015-07-02 |\n| Resort Hotel | 0 |  14 | 2015 | July | 27 | 1 | 0 | 2 | 2 | ⋯ | No Deposit | 240  | NULL | 0 | Transient | 98 | 0 | 1 | Check-Out | 2015-07-03 |\n| Resort Hotel | 0 |  14 | 2015 | July | 27 | 1 | 0 | 2 | 2 | ⋯ | No Deposit | 240  | NULL | 0 | Transient | 98 | 0 | 1 | Check-Out | 2015-07-03 |\n\n",
            "text/latex": "A tibble: 6 × 32\n\\begin{tabular}{lllllllllllllllllllll}\n hotel & is\\_canceled & lead\\_time & arrival\\_date\\_year & arrival\\_date\\_month & arrival\\_date\\_week\\_number & arrival\\_date\\_day\\_of\\_month & stays\\_in\\_weekend\\_nights & stays\\_in\\_week\\_nights & adults & ⋯ & deposit\\_type & agent & company & days\\_in\\_waiting\\_list & customer\\_type & adr & required\\_car\\_parking\\_spaces & total\\_of\\_special\\_requests & reservation\\_status & reservation\\_status\\_date\\\\\n <chr> & <dbl> & <dbl> & <dbl> & <chr> & <dbl> & <dbl> & <dbl> & <dbl> & <dbl> & ⋯ & <chr> & <chr> & <chr> & <dbl> & <chr> & <dbl> & <dbl> & <dbl> & <chr> & <date>\\\\\n\\hline\n\t Resort Hotel & 0 & 342 & 2015 & July & 27 & 1 & 0 & 0 & 2 & ⋯ & No Deposit & NULL & NULL & 0 & Transient &  0 & 0 & 0 & Check-Out & 2015-07-01\\\\\n\t Resort Hotel & 0 & 737 & 2015 & July & 27 & 1 & 0 & 0 & 2 & ⋯ & No Deposit & NULL & NULL & 0 & Transient &  0 & 0 & 0 & Check-Out & 2015-07-01\\\\\n\t Resort Hotel & 0 &   7 & 2015 & July & 27 & 1 & 0 & 1 & 1 & ⋯ & No Deposit & NULL & NULL & 0 & Transient & 75 & 0 & 0 & Check-Out & 2015-07-02\\\\\n\t Resort Hotel & 0 &  13 & 2015 & July & 27 & 1 & 0 & 1 & 1 & ⋯ & No Deposit & 304  & NULL & 0 & Transient & 75 & 0 & 0 & Check-Out & 2015-07-02\\\\\n\t Resort Hotel & 0 &  14 & 2015 & July & 27 & 1 & 0 & 2 & 2 & ⋯ & No Deposit & 240  & NULL & 0 & Transient & 98 & 0 & 1 & Check-Out & 2015-07-03\\\\\n\t Resort Hotel & 0 &  14 & 2015 & July & 27 & 1 & 0 & 2 & 2 & ⋯ & No Deposit & 240  & NULL & 0 & Transient & 98 & 0 & 1 & Check-Out & 2015-07-03\\\\\n\\end{tabular}\n",
            "text/plain": [
              "  hotel        is_canceled lead_time arrival_date_year arrival_date_month\n",
              "1 Resort Hotel 0           342       2015              July              \n",
              "2 Resort Hotel 0           737       2015              July              \n",
              "3 Resort Hotel 0             7       2015              July              \n",
              "4 Resort Hotel 0            13       2015              July              \n",
              "5 Resort Hotel 0            14       2015              July              \n",
              "6 Resort Hotel 0            14       2015              July              \n",
              "  arrival_date_week_number arrival_date_day_of_month stays_in_weekend_nights\n",
              "1 27                       1                         0                      \n",
              "2 27                       1                         0                      \n",
              "3 27                       1                         0                      \n",
              "4 27                       1                         0                      \n",
              "5 27                       1                         0                      \n",
              "6 27                       1                         0                      \n",
              "  stays_in_week_nights adults ⋯ deposit_type agent company days_in_waiting_list\n",
              "1 0                    2      ⋯ No Deposit   NULL  NULL    0                   \n",
              "2 0                    2      ⋯ No Deposit   NULL  NULL    0                   \n",
              "3 1                    1      ⋯ No Deposit   NULL  NULL    0                   \n",
              "4 1                    1      ⋯ No Deposit   304   NULL    0                   \n",
              "5 2                    2      ⋯ No Deposit   240   NULL    0                   \n",
              "6 2                    2      ⋯ No Deposit   240   NULL    0                   \n",
              "  customer_type adr required_car_parking_spaces total_of_special_requests\n",
              "1 Transient      0  0                           0                        \n",
              "2 Transient      0  0                           0                        \n",
              "3 Transient     75  0                           0                        \n",
              "4 Transient     75  0                           0                        \n",
              "5 Transient     98  0                           1                        \n",
              "6 Transient     98  0                           1                        \n",
              "  reservation_status reservation_status_date\n",
              "1 Check-Out          2015-07-01             \n",
              "2 Check-Out          2015-07-01             \n",
              "3 Check-Out          2015-07-02             \n",
              "4 Check-Out          2015-07-02             \n",
              "5 Check-Out          2015-07-03             \n",
              "6 Check-Out          2015-07-03             "
            ]
          },
          "metadata": {}
        }
      ]
    },
    {
      "cell_type": "markdown",
      "source": [
        "## Função str()"
      ],
      "metadata": {
        "id": "Varq83KH1jAV"
      }
    },
    {
      "cell_type": "code",
      "source": [
        "# Mostra um resumo de cada coluna do dataset especificado.\n",
        "str(bookings_df)"
      ],
      "metadata": {
        "colab": {
          "base_uri": "https://localhost:8080/"
        },
        "id": "KQCW1dSM1k1T",
        "outputId": "63a33185-8630-480c-da00-d00107f8fb68"
      },
      "execution_count": null,
      "outputs": [
        {
          "output_type": "stream",
          "name": "stdout",
          "text": [
            "spc_tbl_ [21,949 × 32] (S3: spec_tbl_df/tbl_df/tbl/data.frame)\n",
            " $ hotel                         : chr [1:21949] \"Resort Hotel\" \"Resort Hotel\" \"Resort Hotel\" \"Resort Hotel\" ...\n",
            " $ is_canceled                   : num [1:21949] 0 0 0 0 0 0 0 0 1 1 ...\n",
            " $ lead_time                     : num [1:21949] 342 737 7 13 14 14 0 9 85 75 ...\n",
            " $ arrival_date_year             : num [1:21949] 2015 2015 2015 2015 2015 ...\n",
            " $ arrival_date_month            : chr [1:21949] \"July\" \"July\" \"July\" \"July\" ...\n",
            " $ arrival_date_week_number      : num [1:21949] 27 27 27 27 27 27 27 27 27 27 ...\n",
            " $ arrival_date_day_of_month     : num [1:21949] 1 1 1 1 1 1 1 1 1 1 ...\n",
            " $ stays_in_weekend_nights       : num [1:21949] 0 0 0 0 0 0 0 0 0 0 ...\n",
            " $ stays_in_week_nights          : num [1:21949] 0 0 1 1 2 2 2 2 3 3 ...\n",
            " $ adults                        : num [1:21949] 2 2 1 1 2 2 2 2 2 2 ...\n",
            " $ children                      : num [1:21949] 0 0 0 0 0 0 0 0 0 0 ...\n",
            " $ babies                        : num [1:21949] 0 0 0 0 0 0 0 0 0 0 ...\n",
            " $ meal                          : chr [1:21949] \"BB\" \"BB\" \"BB\" \"BB\" ...\n",
            " $ country                       : chr [1:21949] \"PRT\" \"PRT\" \"GBR\" \"GBR\" ...\n",
            " $ market_segment                : chr [1:21949] \"Direct\" \"Direct\" \"Direct\" \"Corporate\" ...\n",
            " $ distribution_channel          : chr [1:21949] \"Direct\" \"Direct\" \"Direct\" \"Corporate\" ...\n",
            " $ is_repeated_guest             : num [1:21949] 0 0 0 0 0 0 0 0 0 0 ...\n",
            " $ previous_cancellations        : num [1:21949] 0 0 0 0 0 0 0 0 0 0 ...\n",
            " $ previous_bookings_not_canceled: num [1:21949] 0 0 0 0 0 0 0 0 0 0 ...\n",
            " $ reserved_room_type            : chr [1:21949] \"C\" \"C\" \"A\" \"A\" ...\n",
            " $ assigned_room_type            : chr [1:21949] \"C\" \"C\" \"C\" \"A\" ...\n",
            " $ booking_changes               : num [1:21949] 3 4 0 0 0 0 0 0 0 0 ...\n",
            " $ deposit_type                  : chr [1:21949] \"No Deposit\" \"No Deposit\" \"No Deposit\" \"No Deposit\" ...\n",
            " $ agent                         : chr [1:21949] \"NULL\" \"NULL\" \"NULL\" \"304\" ...\n",
            " $ company                       : chr [1:21949] \"NULL\" \"NULL\" \"NULL\" \"NULL\" ...\n",
            " $ days_in_waiting_list          : num [1:21949] 0 0 0 0 0 0 0 0 0 0 ...\n",
            " $ customer_type                 : chr [1:21949] \"Transient\" \"Transient\" \"Transient\" \"Transient\" ...\n",
            " $ adr                           : num [1:21949] 0 0 75 75 98 ...\n",
            " $ required_car_parking_spaces   : num [1:21949] 0 0 0 0 0 0 0 0 0 0 ...\n",
            " $ total_of_special_requests     : num [1:21949] 0 0 0 0 1 1 0 1 1 0 ...\n",
            " $ reservation_status            : chr [1:21949] \"Check-Out\" \"Check-Out\" \"Check-Out\" \"Check-Out\" ...\n",
            " $ reservation_status_date       : Date[1:21949], format: \"2015-07-01\" \"2015-07-01\" ...\n",
            " - attr(*, \"spec\")=\n",
            "  .. cols(\n",
            "  ..   hotel = \u001b[31mcol_character()\u001b[39m,\n",
            "  ..   is_canceled = \u001b[32mcol_double()\u001b[39m,\n",
            "  ..   lead_time = \u001b[32mcol_double()\u001b[39m,\n",
            "  ..   arrival_date_year = \u001b[32mcol_double()\u001b[39m,\n",
            "  ..   arrival_date_month = \u001b[31mcol_character()\u001b[39m,\n",
            "  ..   arrival_date_week_number = \u001b[32mcol_double()\u001b[39m,\n",
            "  ..   arrival_date_day_of_month = \u001b[32mcol_double()\u001b[39m,\n",
            "  ..   stays_in_weekend_nights = \u001b[32mcol_double()\u001b[39m,\n",
            "  ..   stays_in_week_nights = \u001b[32mcol_double()\u001b[39m,\n",
            "  ..   adults = \u001b[32mcol_double()\u001b[39m,\n",
            "  ..   children = \u001b[32mcol_double()\u001b[39m,\n",
            "  ..   babies = \u001b[32mcol_double()\u001b[39m,\n",
            "  ..   meal = \u001b[31mcol_character()\u001b[39m,\n",
            "  ..   country = \u001b[31mcol_character()\u001b[39m,\n",
            "  ..   market_segment = \u001b[31mcol_character()\u001b[39m,\n",
            "  ..   distribution_channel = \u001b[31mcol_character()\u001b[39m,\n",
            "  ..   is_repeated_guest = \u001b[32mcol_double()\u001b[39m,\n",
            "  ..   previous_cancellations = \u001b[32mcol_double()\u001b[39m,\n",
            "  ..   previous_bookings_not_canceled = \u001b[32mcol_double()\u001b[39m,\n",
            "  ..   reserved_room_type = \u001b[31mcol_character()\u001b[39m,\n",
            "  ..   assigned_room_type = \u001b[31mcol_character()\u001b[39m,\n",
            "  ..   booking_changes = \u001b[32mcol_double()\u001b[39m,\n",
            "  ..   deposit_type = \u001b[31mcol_character()\u001b[39m,\n",
            "  ..   agent = \u001b[31mcol_character()\u001b[39m,\n",
            "  ..   company = \u001b[31mcol_character()\u001b[39m,\n",
            "  ..   days_in_waiting_list = \u001b[32mcol_double()\u001b[39m,\n",
            "  ..   customer_type = \u001b[31mcol_character()\u001b[39m,\n",
            "  ..   adr = \u001b[32mcol_double()\u001b[39m,\n",
            "  ..   required_car_parking_spaces = \u001b[32mcol_double()\u001b[39m,\n",
            "  ..   total_of_special_requests = \u001b[32mcol_double()\u001b[39m,\n",
            "  ..   reservation_status = \u001b[31mcol_character()\u001b[39m,\n",
            "  ..   reservation_status_date = \u001b[34mcol_date(format = \"\")\u001b[39m\n",
            "  .. )\n",
            " - attr(*, \"problems\")=<externalptr> \n"
          ]
        }
      ]
    },
    {
      "cell_type": "markdown",
      "source": [
        "## Função colnames()"
      ],
      "metadata": {
        "id": "gypEFP__1mUr"
      }
    },
    {
      "cell_type": "code",
      "source": [
        "# Exibe uma lista com apenas os nomes das colunas do dataset.\n",
        "colnames(bookings_df)"
      ],
      "metadata": {
        "colab": {
          "base_uri": "https://localhost:8080/",
          "height": 86
        },
        "id": "PlVE83wM1o7N",
        "outputId": "d26e8a59-788f-402b-b41d-0a5d9bdc88a8"
      },
      "execution_count": null,
      "outputs": [
        {
          "output_type": "display_data",
          "data": {
            "text/html": [
              "<style>\n",
              ".list-inline {list-style: none; margin:0; padding: 0}\n",
              ".list-inline>li {display: inline-block}\n",
              ".list-inline>li:not(:last-child)::after {content: \"\\00b7\"; padding: 0 .5ex}\n",
              "</style>\n",
              "<ol class=list-inline><li>'hotel'</li><li>'is_canceled'</li><li>'lead_time'</li><li>'arrival_date_year'</li><li>'arrival_date_month'</li><li>'arrival_date_week_number'</li><li>'arrival_date_day_of_month'</li><li>'stays_in_weekend_nights'</li><li>'stays_in_week_nights'</li><li>'adults'</li><li>'children'</li><li>'babies'</li><li>'meal'</li><li>'country'</li><li>'market_segment'</li><li>'distribution_channel'</li><li>'is_repeated_guest'</li><li>'previous_cancellations'</li><li>'previous_bookings_not_canceled'</li><li>'reserved_room_type'</li><li>'assigned_room_type'</li><li>'booking_changes'</li><li>'deposit_type'</li><li>'agent'</li><li>'company'</li><li>'days_in_waiting_list'</li><li>'customer_type'</li><li>'adr'</li><li>'required_car_parking_spaces'</li><li>'total_of_special_requests'</li><li>'reservation_status'</li><li>'reservation_status_date'</li></ol>\n"
            ],
            "text/markdown": "1. 'hotel'\n2. 'is_canceled'\n3. 'lead_time'\n4. 'arrival_date_year'\n5. 'arrival_date_month'\n6. 'arrival_date_week_number'\n7. 'arrival_date_day_of_month'\n8. 'stays_in_weekend_nights'\n9. 'stays_in_week_nights'\n10. 'adults'\n11. 'children'\n12. 'babies'\n13. 'meal'\n14. 'country'\n15. 'market_segment'\n16. 'distribution_channel'\n17. 'is_repeated_guest'\n18. 'previous_cancellations'\n19. 'previous_bookings_not_canceled'\n20. 'reserved_room_type'\n21. 'assigned_room_type'\n22. 'booking_changes'\n23. 'deposit_type'\n24. 'agent'\n25. 'company'\n26. 'days_in_waiting_list'\n27. 'customer_type'\n28. 'adr'\n29. 'required_car_parking_spaces'\n30. 'total_of_special_requests'\n31. 'reservation_status'\n32. 'reservation_status_date'\n\n\n",
            "text/latex": "\\begin{enumerate*}\n\\item 'hotel'\n\\item 'is\\_canceled'\n\\item 'lead\\_time'\n\\item 'arrival\\_date\\_year'\n\\item 'arrival\\_date\\_month'\n\\item 'arrival\\_date\\_week\\_number'\n\\item 'arrival\\_date\\_day\\_of\\_month'\n\\item 'stays\\_in\\_weekend\\_nights'\n\\item 'stays\\_in\\_week\\_nights'\n\\item 'adults'\n\\item 'children'\n\\item 'babies'\n\\item 'meal'\n\\item 'country'\n\\item 'market\\_segment'\n\\item 'distribution\\_channel'\n\\item 'is\\_repeated\\_guest'\n\\item 'previous\\_cancellations'\n\\item 'previous\\_bookings\\_not\\_canceled'\n\\item 'reserved\\_room\\_type'\n\\item 'assigned\\_room\\_type'\n\\item 'booking\\_changes'\n\\item 'deposit\\_type'\n\\item 'agent'\n\\item 'company'\n\\item 'days\\_in\\_waiting\\_list'\n\\item 'customer\\_type'\n\\item 'adr'\n\\item 'required\\_car\\_parking\\_spaces'\n\\item 'total\\_of\\_special\\_requests'\n\\item 'reservation\\_status'\n\\item 'reservation\\_status\\_date'\n\\end{enumerate*}\n",
            "text/plain": [
              " [1] \"hotel\"                          \"is_canceled\"                   \n",
              " [3] \"lead_time\"                      \"arrival_date_year\"             \n",
              " [5] \"arrival_date_month\"             \"arrival_date_week_number\"      \n",
              " [7] \"arrival_date_day_of_month\"      \"stays_in_weekend_nights\"       \n",
              " [9] \"stays_in_week_nights\"           \"adults\"                        \n",
              "[11] \"children\"                       \"babies\"                        \n",
              "[13] \"meal\"                           \"country\"                       \n",
              "[15] \"market_segment\"                 \"distribution_channel\"          \n",
              "[17] \"is_repeated_guest\"              \"previous_cancellations\"        \n",
              "[19] \"previous_bookings_not_canceled\" \"reserved_room_type\"            \n",
              "[21] \"assigned_room_type\"             \"booking_changes\"               \n",
              "[23] \"deposit_type\"                   \"agent\"                         \n",
              "[25] \"company\"                        \"days_in_waiting_list\"          \n",
              "[27] \"customer_type\"                  \"adr\"                           \n",
              "[29] \"required_car_parking_spaces\"    \"total_of_special_requests\"     \n",
              "[31] \"reservation_status\"             \"reservation_status_date\"       "
            ]
          },
          "metadata": {}
        }
      ]
    },
    {
      "cell_type": "markdown",
      "source": [
        "# Função select()"
      ],
      "metadata": {
        "id": "eQ2XW-_91qps"
      }
    },
    {
      "cell_type": "code",
      "source": [
        "# Cria um novo dataframe com apenas as colunas selecinadas.\n",
        "new_df1 <- select(bookings_df, adr, adults)\n",
        "head(new_df1)"
      ],
      "metadata": {
        "colab": {
          "base_uri": "https://localhost:8080/",
          "height": 286
        },
        "id": "82EkTV8T1utS",
        "outputId": "b7485285-d84f-4b80-9fad-46b66b2a9c99"
      },
      "execution_count": null,
      "outputs": [
        {
          "output_type": "display_data",
          "data": {
            "text/html": [
              "<table class=\"dataframe\">\n",
              "<caption>A tibble: 6 × 2</caption>\n",
              "<thead>\n",
              "\t<tr><th scope=col>adr</th><th scope=col>adults</th></tr>\n",
              "\t<tr><th scope=col>&lt;dbl&gt;</th><th scope=col>&lt;dbl&gt;</th></tr>\n",
              "</thead>\n",
              "<tbody>\n",
              "\t<tr><td> 0</td><td>2</td></tr>\n",
              "\t<tr><td> 0</td><td>2</td></tr>\n",
              "\t<tr><td>75</td><td>1</td></tr>\n",
              "\t<tr><td>75</td><td>1</td></tr>\n",
              "\t<tr><td>98</td><td>2</td></tr>\n",
              "\t<tr><td>98</td><td>2</td></tr>\n",
              "</tbody>\n",
              "</table>\n"
            ],
            "text/markdown": "\nA tibble: 6 × 2\n\n| adr &lt;dbl&gt; | adults &lt;dbl&gt; |\n|---|---|\n|  0 | 2 |\n|  0 | 2 |\n| 75 | 1 |\n| 75 | 1 |\n| 98 | 2 |\n| 98 | 2 |\n\n",
            "text/latex": "A tibble: 6 × 2\n\\begin{tabular}{ll}\n adr & adults\\\\\n <dbl> & <dbl>\\\\\n\\hline\n\t  0 & 2\\\\\n\t  0 & 2\\\\\n\t 75 & 1\\\\\n\t 75 & 1\\\\\n\t 98 & 2\\\\\n\t 98 & 2\\\\\n\\end{tabular}\n",
            "text/plain": [
              "  adr adults\n",
              "1  0  2     \n",
              "2  0  2     \n",
              "3 75  1     \n",
              "4 75  1     \n",
              "5 98  2     \n",
              "6 98  2     "
            ]
          },
          "metadata": {}
        }
      ]
    },
    {
      "cell_type": "code",
      "source": [
        "# Cria um novo dataframe com todas as colunas, menos as selecinadas.\n",
        "new_df2 <- select(bookings_df, - adr, adults)\n",
        "head(new_df2)"
      ],
      "metadata": {
        "colab": {
          "base_uri": "https://localhost:8080/",
          "height": 410
        },
        "id": "UkREztYB1zH5",
        "outputId": "6da8fcd8-e64c-4833-d4a7-965225e735c1"
      },
      "execution_count": null,
      "outputs": [
        {
          "output_type": "display_data",
          "data": {
            "text/html": [
              "<table class=\"dataframe\">\n",
              "<caption>A tibble: 6 × 31</caption>\n",
              "<thead>\n",
              "\t<tr><th scope=col>hotel</th><th scope=col>is_canceled</th><th scope=col>lead_time</th><th scope=col>arrival_date_year</th><th scope=col>arrival_date_month</th><th scope=col>arrival_date_week_number</th><th scope=col>arrival_date_day_of_month</th><th scope=col>stays_in_weekend_nights</th><th scope=col>stays_in_week_nights</th><th scope=col>adults</th><th scope=col>⋯</th><th scope=col>booking_changes</th><th scope=col>deposit_type</th><th scope=col>agent</th><th scope=col>company</th><th scope=col>days_in_waiting_list</th><th scope=col>customer_type</th><th scope=col>required_car_parking_spaces</th><th scope=col>total_of_special_requests</th><th scope=col>reservation_status</th><th scope=col>reservation_status_date</th></tr>\n",
              "\t<tr><th scope=col>&lt;chr&gt;</th><th scope=col>&lt;dbl&gt;</th><th scope=col>&lt;dbl&gt;</th><th scope=col>&lt;dbl&gt;</th><th scope=col>&lt;chr&gt;</th><th scope=col>&lt;dbl&gt;</th><th scope=col>&lt;dbl&gt;</th><th scope=col>&lt;dbl&gt;</th><th scope=col>&lt;dbl&gt;</th><th scope=col>&lt;dbl&gt;</th><th scope=col>⋯</th><th scope=col>&lt;dbl&gt;</th><th scope=col>&lt;chr&gt;</th><th scope=col>&lt;chr&gt;</th><th scope=col>&lt;chr&gt;</th><th scope=col>&lt;dbl&gt;</th><th scope=col>&lt;chr&gt;</th><th scope=col>&lt;dbl&gt;</th><th scope=col>&lt;dbl&gt;</th><th scope=col>&lt;chr&gt;</th><th scope=col>&lt;date&gt;</th></tr>\n",
              "</thead>\n",
              "<tbody>\n",
              "\t<tr><td>Resort Hotel</td><td>0</td><td>342</td><td>2015</td><td>July</td><td>27</td><td>1</td><td>0</td><td>0</td><td>2</td><td>⋯</td><td>3</td><td>No Deposit</td><td>NULL</td><td>NULL</td><td>0</td><td>Transient</td><td>0</td><td>0</td><td>Check-Out</td><td>2015-07-01</td></tr>\n",
              "\t<tr><td>Resort Hotel</td><td>0</td><td>737</td><td>2015</td><td>July</td><td>27</td><td>1</td><td>0</td><td>0</td><td>2</td><td>⋯</td><td>4</td><td>No Deposit</td><td>NULL</td><td>NULL</td><td>0</td><td>Transient</td><td>0</td><td>0</td><td>Check-Out</td><td>2015-07-01</td></tr>\n",
              "\t<tr><td>Resort Hotel</td><td>0</td><td>  7</td><td>2015</td><td>July</td><td>27</td><td>1</td><td>0</td><td>1</td><td>1</td><td>⋯</td><td>0</td><td>No Deposit</td><td>NULL</td><td>NULL</td><td>0</td><td>Transient</td><td>0</td><td>0</td><td>Check-Out</td><td>2015-07-02</td></tr>\n",
              "\t<tr><td>Resort Hotel</td><td>0</td><td> 13</td><td>2015</td><td>July</td><td>27</td><td>1</td><td>0</td><td>1</td><td>1</td><td>⋯</td><td>0</td><td>No Deposit</td><td>304 </td><td>NULL</td><td>0</td><td>Transient</td><td>0</td><td>0</td><td>Check-Out</td><td>2015-07-02</td></tr>\n",
              "\t<tr><td>Resort Hotel</td><td>0</td><td> 14</td><td>2015</td><td>July</td><td>27</td><td>1</td><td>0</td><td>2</td><td>2</td><td>⋯</td><td>0</td><td>No Deposit</td><td>240 </td><td>NULL</td><td>0</td><td>Transient</td><td>0</td><td>1</td><td>Check-Out</td><td>2015-07-03</td></tr>\n",
              "\t<tr><td>Resort Hotel</td><td>0</td><td> 14</td><td>2015</td><td>July</td><td>27</td><td>1</td><td>0</td><td>2</td><td>2</td><td>⋯</td><td>0</td><td>No Deposit</td><td>240 </td><td>NULL</td><td>0</td><td>Transient</td><td>0</td><td>1</td><td>Check-Out</td><td>2015-07-03</td></tr>\n",
              "</tbody>\n",
              "</table>\n"
            ],
            "text/markdown": "\nA tibble: 6 × 31\n\n| hotel &lt;chr&gt; | is_canceled &lt;dbl&gt; | lead_time &lt;dbl&gt; | arrival_date_year &lt;dbl&gt; | arrival_date_month &lt;chr&gt; | arrival_date_week_number &lt;dbl&gt; | arrival_date_day_of_month &lt;dbl&gt; | stays_in_weekend_nights &lt;dbl&gt; | stays_in_week_nights &lt;dbl&gt; | adults &lt;dbl&gt; | ⋯ ⋯ | booking_changes &lt;dbl&gt; | deposit_type &lt;chr&gt; | agent &lt;chr&gt; | company &lt;chr&gt; | days_in_waiting_list &lt;dbl&gt; | customer_type &lt;chr&gt; | required_car_parking_spaces &lt;dbl&gt; | total_of_special_requests &lt;dbl&gt; | reservation_status &lt;chr&gt; | reservation_status_date &lt;date&gt; |\n|---|---|---|---|---|---|---|---|---|---|---|---|---|---|---|---|---|---|---|---|---|\n| Resort Hotel | 0 | 342 | 2015 | July | 27 | 1 | 0 | 0 | 2 | ⋯ | 3 | No Deposit | NULL | NULL | 0 | Transient | 0 | 0 | Check-Out | 2015-07-01 |\n| Resort Hotel | 0 | 737 | 2015 | July | 27 | 1 | 0 | 0 | 2 | ⋯ | 4 | No Deposit | NULL | NULL | 0 | Transient | 0 | 0 | Check-Out | 2015-07-01 |\n| Resort Hotel | 0 |   7 | 2015 | July | 27 | 1 | 0 | 1 | 1 | ⋯ | 0 | No Deposit | NULL | NULL | 0 | Transient | 0 | 0 | Check-Out | 2015-07-02 |\n| Resort Hotel | 0 |  13 | 2015 | July | 27 | 1 | 0 | 1 | 1 | ⋯ | 0 | No Deposit | 304  | NULL | 0 | Transient | 0 | 0 | Check-Out | 2015-07-02 |\n| Resort Hotel | 0 |  14 | 2015 | July | 27 | 1 | 0 | 2 | 2 | ⋯ | 0 | No Deposit | 240  | NULL | 0 | Transient | 0 | 1 | Check-Out | 2015-07-03 |\n| Resort Hotel | 0 |  14 | 2015 | July | 27 | 1 | 0 | 2 | 2 | ⋯ | 0 | No Deposit | 240  | NULL | 0 | Transient | 0 | 1 | Check-Out | 2015-07-03 |\n\n",
            "text/latex": "A tibble: 6 × 31\n\\begin{tabular}{lllllllllllllllllllll}\n hotel & is\\_canceled & lead\\_time & arrival\\_date\\_year & arrival\\_date\\_month & arrival\\_date\\_week\\_number & arrival\\_date\\_day\\_of\\_month & stays\\_in\\_weekend\\_nights & stays\\_in\\_week\\_nights & adults & ⋯ & booking\\_changes & deposit\\_type & agent & company & days\\_in\\_waiting\\_list & customer\\_type & required\\_car\\_parking\\_spaces & total\\_of\\_special\\_requests & reservation\\_status & reservation\\_status\\_date\\\\\n <chr> & <dbl> & <dbl> & <dbl> & <chr> & <dbl> & <dbl> & <dbl> & <dbl> & <dbl> & ⋯ & <dbl> & <chr> & <chr> & <chr> & <dbl> & <chr> & <dbl> & <dbl> & <chr> & <date>\\\\\n\\hline\n\t Resort Hotel & 0 & 342 & 2015 & July & 27 & 1 & 0 & 0 & 2 & ⋯ & 3 & No Deposit & NULL & NULL & 0 & Transient & 0 & 0 & Check-Out & 2015-07-01\\\\\n\t Resort Hotel & 0 & 737 & 2015 & July & 27 & 1 & 0 & 0 & 2 & ⋯ & 4 & No Deposit & NULL & NULL & 0 & Transient & 0 & 0 & Check-Out & 2015-07-01\\\\\n\t Resort Hotel & 0 &   7 & 2015 & July & 27 & 1 & 0 & 1 & 1 & ⋯ & 0 & No Deposit & NULL & NULL & 0 & Transient & 0 & 0 & Check-Out & 2015-07-02\\\\\n\t Resort Hotel & 0 &  13 & 2015 & July & 27 & 1 & 0 & 1 & 1 & ⋯ & 0 & No Deposit & 304  & NULL & 0 & Transient & 0 & 0 & Check-Out & 2015-07-02\\\\\n\t Resort Hotel & 0 &  14 & 2015 & July & 27 & 1 & 0 & 2 & 2 & ⋯ & 0 & No Deposit & 240  & NULL & 0 & Transient & 0 & 1 & Check-Out & 2015-07-03\\\\\n\t Resort Hotel & 0 &  14 & 2015 & July & 27 & 1 & 0 & 2 & 2 & ⋯ & 0 & No Deposit & 240  & NULL & 0 & Transient & 0 & 1 & Check-Out & 2015-07-03\\\\\n\\end{tabular}\n",
            "text/plain": [
              "  hotel        is_canceled lead_time arrival_date_year arrival_date_month\n",
              "1 Resort Hotel 0           342       2015              July              \n",
              "2 Resort Hotel 0           737       2015              July              \n",
              "3 Resort Hotel 0             7       2015              July              \n",
              "4 Resort Hotel 0            13       2015              July              \n",
              "5 Resort Hotel 0            14       2015              July              \n",
              "6 Resort Hotel 0            14       2015              July              \n",
              "  arrival_date_week_number arrival_date_day_of_month stays_in_weekend_nights\n",
              "1 27                       1                         0                      \n",
              "2 27                       1                         0                      \n",
              "3 27                       1                         0                      \n",
              "4 27                       1                         0                      \n",
              "5 27                       1                         0                      \n",
              "6 27                       1                         0                      \n",
              "  stays_in_week_nights adults ⋯ booking_changes deposit_type agent company\n",
              "1 0                    2      ⋯ 3               No Deposit   NULL  NULL   \n",
              "2 0                    2      ⋯ 4               No Deposit   NULL  NULL   \n",
              "3 1                    1      ⋯ 0               No Deposit   NULL  NULL   \n",
              "4 1                    1      ⋯ 0               No Deposit   304   NULL   \n",
              "5 2                    2      ⋯ 0               No Deposit   240   NULL   \n",
              "6 2                    2      ⋯ 0               No Deposit   240   NULL   \n",
              "  days_in_waiting_list customer_type required_car_parking_spaces\n",
              "1 0                    Transient     0                          \n",
              "2 0                    Transient     0                          \n",
              "3 0                    Transient     0                          \n",
              "4 0                    Transient     0                          \n",
              "5 0                    Transient     0                          \n",
              "6 0                    Transient     0                          \n",
              "  total_of_special_requests reservation_status reservation_status_date\n",
              "1 0                         Check-Out          2015-07-01             \n",
              "2 0                         Check-Out          2015-07-01             \n",
              "3 0                         Check-Out          2015-07-02             \n",
              "4 0                         Check-Out          2015-07-02             \n",
              "5 1                         Check-Out          2015-07-03             \n",
              "6 1                         Check-Out          2015-07-03             "
            ]
          },
          "metadata": {}
        }
      ]
    },
    {
      "cell_type": "markdown",
      "source": [
        "# Função mutate()"
      ],
      "metadata": {
        "id": "r1DSLFCC10wU"
      }
    },
    {
      "cell_type": "code",
      "source": [
        "# Cria uma nova variável, neste caso o calculo do percentual total.\n",
        "new_df1 <- mutate(new_df1, total = adr / adults)\n",
        "head(new_df1)"
      ],
      "metadata": {
        "colab": {
          "base_uri": "https://localhost:8080/",
          "height": 286
        },
        "id": "BsdVIM1V12Yg",
        "outputId": "9c2011ff-280c-49e8-f005-35ddb6ba42d4"
      },
      "execution_count": null,
      "outputs": [
        {
          "output_type": "display_data",
          "data": {
            "text/html": [
              "<table class=\"dataframe\">\n",
              "<caption>A tibble: 6 × 3</caption>\n",
              "<thead>\n",
              "\t<tr><th scope=col>adr</th><th scope=col>adults</th><th scope=col>total</th></tr>\n",
              "\t<tr><th scope=col>&lt;dbl&gt;</th><th scope=col>&lt;dbl&gt;</th><th scope=col>&lt;dbl&gt;</th></tr>\n",
              "</thead>\n",
              "<tbody>\n",
              "\t<tr><td> 0</td><td>2</td><td> 0</td></tr>\n",
              "\t<tr><td> 0</td><td>2</td><td> 0</td></tr>\n",
              "\t<tr><td>75</td><td>1</td><td>75</td></tr>\n",
              "\t<tr><td>75</td><td>1</td><td>75</td></tr>\n",
              "\t<tr><td>98</td><td>2</td><td>49</td></tr>\n",
              "\t<tr><td>98</td><td>2</td><td>49</td></tr>\n",
              "</tbody>\n",
              "</table>\n"
            ],
            "text/markdown": "\nA tibble: 6 × 3\n\n| adr &lt;dbl&gt; | adults &lt;dbl&gt; | total &lt;dbl&gt; |\n|---|---|---|\n|  0 | 2 |  0 |\n|  0 | 2 |  0 |\n| 75 | 1 | 75 |\n| 75 | 1 | 75 |\n| 98 | 2 | 49 |\n| 98 | 2 | 49 |\n\n",
            "text/latex": "A tibble: 6 × 3\n\\begin{tabular}{lll}\n adr & adults & total\\\\\n <dbl> & <dbl> & <dbl>\\\\\n\\hline\n\t  0 & 2 &  0\\\\\n\t  0 & 2 &  0\\\\\n\t 75 & 1 & 75\\\\\n\t 75 & 1 & 75\\\\\n\t 98 & 2 & 49\\\\\n\t 98 & 2 & 49\\\\\n\\end{tabular}\n",
            "text/plain": [
              "  adr adults total\n",
              "1  0  2       0   \n",
              "2  0  2       0   \n",
              "3 75  1      75   \n",
              "4 75  1      75   \n",
              "5 98  2      49   \n",
              "6 98  2      49   "
            ]
          },
          "metadata": {}
        }
      ]
    },
    {
      "cell_type": "markdown",
      "source": [
        "# Função unite()"
      ],
      "metadata": {
        "id": "hNtCVDZ614Dj"
      }
    },
    {
      "cell_type": "code",
      "source": [
        "# Combina duas ou mais variáveis em uma nova coluna.\n",
        "example_df <- bookings_df %>%\n",
        "  select(arrival_date_year, arrival_date_month) %>%\n",
        "  unite(arrival_month_year, c(\"arrival_date_month\", \"arrival_date_year\"), sep = \" \")\n",
        "\n",
        "head(example_df)"
      ],
      "metadata": {
        "colab": {
          "base_uri": "https://localhost:8080/",
          "height": 286
        },
        "id": "PexNPnXd16Dy",
        "outputId": "305c176c-abf6-47f2-de88-8352758bbbee"
      },
      "execution_count": null,
      "outputs": [
        {
          "output_type": "display_data",
          "data": {
            "text/html": [
              "<table class=\"dataframe\">\n",
              "<caption>A tibble: 6 × 1</caption>\n",
              "<thead>\n",
              "\t<tr><th scope=col>arrival_month_year</th></tr>\n",
              "\t<tr><th scope=col>&lt;chr&gt;</th></tr>\n",
              "</thead>\n",
              "<tbody>\n",
              "\t<tr><td>July 2015</td></tr>\n",
              "\t<tr><td>July 2015</td></tr>\n",
              "\t<tr><td>July 2015</td></tr>\n",
              "\t<tr><td>July 2015</td></tr>\n",
              "\t<tr><td>July 2015</td></tr>\n",
              "\t<tr><td>July 2015</td></tr>\n",
              "</tbody>\n",
              "</table>\n"
            ],
            "text/markdown": "\nA tibble: 6 × 1\n\n| arrival_month_year &lt;chr&gt; |\n|---|\n| July 2015 |\n| July 2015 |\n| July 2015 |\n| July 2015 |\n| July 2015 |\n| July 2015 |\n\n",
            "text/latex": "A tibble: 6 × 1\n\\begin{tabular}{l}\n arrival\\_month\\_year\\\\\n <chr>\\\\\n\\hline\n\t July 2015\\\\\n\t July 2015\\\\\n\t July 2015\\\\\n\t July 2015\\\\\n\t July 2015\\\\\n\t July 2015\\\\\n\\end{tabular}\n",
            "text/plain": [
              "  arrival_month_year\n",
              "1 July 2015         \n",
              "2 July 2015         \n",
              "3 July 2015         \n",
              "4 July 2015         \n",
              "5 July 2015         \n",
              "6 July 2015         "
            ]
          },
          "metadata": {}
        }
      ]
    },
    {
      "cell_type": "markdown",
      "source": [
        "# Funções para calculos"
      ],
      "metadata": {
        "id": "TdNXrsS1JWoi"
      }
    },
    {
      "cell_type": "markdown",
      "source": [
        "## Função max()"
      ],
      "metadata": {
        "id": "QCGFq6iwKMI6"
      }
    },
    {
      "cell_type": "code",
      "source": [
        "# Calcula o tempo de espera máximo.\n",
        "max(bookings_df$lead_time)"
      ],
      "metadata": {
        "colab": {
          "base_uri": "https://localhost:8080/",
          "height": 34
        },
        "id": "8e1qVOr917tL",
        "outputId": "3e7da99f-ff6d-4100-9fbf-6f4e755009bd"
      },
      "execution_count": null,
      "outputs": [
        {
          "output_type": "display_data",
          "data": {
            "text/html": [
              "737"
            ],
            "text/markdown": "737",
            "text/latex": "737",
            "text/plain": [
              "[1] 737"
            ]
          },
          "metadata": {}
        }
      ]
    },
    {
      "cell_type": "markdown",
      "source": [
        "## Função min()"
      ],
      "metadata": {
        "id": "28BUXdqmKPbJ"
      }
    },
    {
      "cell_type": "code",
      "source": [
        "# Calcula o tempo de espera mínimo.\n",
        "min(bookings_df$lead_time)"
      ],
      "metadata": {
        "colab": {
          "base_uri": "https://localhost:8080/",
          "height": 34
        },
        "id": "RQxTAY_n18_T",
        "outputId": "4879b7ab-c402-4f32-dbda-02e2c196569b"
      },
      "execution_count": null,
      "outputs": [
        {
          "output_type": "display_data",
          "data": {
            "text/html": [
              "0"
            ],
            "text/markdown": "0",
            "text/latex": "0",
            "text/plain": [
              "[1] 0"
            ]
          },
          "metadata": {}
        }
      ]
    },
    {
      "cell_type": "markdown",
      "source": [
        "## Função mean()"
      ],
      "metadata": {
        "id": "0T8LDJ_wKS5u"
      }
    },
    {
      "cell_type": "code",
      "source": [
        "# Calcula o tempo de espera médio.\n",
        "mean(bookings_df$lead_time)"
      ],
      "metadata": {
        "colab": {
          "base_uri": "https://localhost:8080/",
          "height": 34
        },
        "id": "El0byFEe1-Qo",
        "outputId": "663a56d9-8071-460b-c666-9865a92744ce"
      },
      "execution_count": null,
      "outputs": [
        {
          "output_type": "display_data",
          "data": {
            "text/html": [
              "101.534557383024"
            ],
            "text/markdown": "101.534557383024",
            "text/latex": "101.534557383024",
            "text/plain": [
              "[1] 101.5346"
            ]
          },
          "metadata": {}
        }
      ]
    },
    {
      "cell_type": "markdown",
      "source": [
        "## Função summarise()"
      ],
      "metadata": {
        "id": "cSEOdFCVKWXa"
      }
    },
    {
      "cell_type": "code",
      "source": [
        "# Cria um sumário com os calculos de média, mínimo e máximo de tempo de espera.\n",
        "hotel_summary <-\n",
        "  bookings_df %>%\n",
        "  group_by(hotel) %>%\n",
        "  summarise(average_lead_time = mean(lead_time), min_lead_time = min(lead_time), max_lead_time = max(lead_time))\n",
        "\n",
        "hotel_summary"
      ],
      "metadata": {
        "colab": {
          "base_uri": "https://localhost:8080/",
          "height": 129
        },
        "id": "H46UAFf02Aei",
        "outputId": "63d81ded-3d62-4f09-df94-480688df1523"
      },
      "execution_count": null,
      "outputs": [
        {
          "output_type": "display_data",
          "data": {
            "text/html": [
              "<table class=\"dataframe\">\n",
              "<caption>A tibble: 1 × 4</caption>\n",
              "<thead>\n",
              "\t<tr><th scope=col>hotel</th><th scope=col>average_lead_time</th><th scope=col>min_lead_time</th><th scope=col>max_lead_time</th></tr>\n",
              "\t<tr><th scope=col>&lt;chr&gt;</th><th scope=col>&lt;dbl&gt;</th><th scope=col>&lt;dbl&gt;</th><th scope=col>&lt;dbl&gt;</th></tr>\n",
              "</thead>\n",
              "<tbody>\n",
              "\t<tr><td>Resort Hotel</td><td>101.5346</td><td>0</td><td>737</td></tr>\n",
              "</tbody>\n",
              "</table>\n"
            ],
            "text/markdown": "\nA tibble: 1 × 4\n\n| hotel &lt;chr&gt; | average_lead_time &lt;dbl&gt; | min_lead_time &lt;dbl&gt; | max_lead_time &lt;dbl&gt; |\n|---|---|---|---|\n| Resort Hotel | 101.5346 | 0 | 737 |\n\n",
            "text/latex": "A tibble: 1 × 4\n\\begin{tabular}{llll}\n hotel & average\\_lead\\_time & min\\_lead\\_time & max\\_lead\\_time\\\\\n <chr> & <dbl> & <dbl> & <dbl>\\\\\n\\hline\n\t Resort Hotel & 101.5346 & 0 & 737\\\\\n\\end{tabular}\n",
            "text/plain": [
              "  hotel        average_lead_time min_lead_time max_lead_time\n",
              "1 Resort Hotel 101.5346          0             737          "
            ]
          },
          "metadata": {}
        }
      ]
    },
    {
      "cell_type": "markdown",
      "source": [
        "# Função ggplot()"
      ],
      "metadata": {
        "id": "1pegSw5I2CYo"
      }
    },
    {
      "cell_type": "code",
      "source": [
        "ggplot(data = bookings_df) +\n",
        "  geom_point(mapping = aes(x = lead_time, y = children))"
      ],
      "metadata": {
        "colab": {
          "base_uri": "https://localhost:8080/",
          "height": 437
        },
        "id": "c5UkseWF2CJQ",
        "outputId": "cffe41a2-d7ef-41e6-bc4c-3b5907247c7d"
      },
      "execution_count": null,
      "outputs": [
        {
          "output_type": "display_data",
          "data": {
            "text/plain": [
              "plot without title"
            ],
            "image/png": "[encoded data removed]"
          },
          "metadata": {
            "image/png": {
              "width": 420,
              "height": 420
            }
          }
        }
      ]
    }
  ]
}
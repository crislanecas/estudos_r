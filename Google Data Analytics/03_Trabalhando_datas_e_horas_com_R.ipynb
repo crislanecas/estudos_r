{
  "nbformat": 4,
  "nbformat_minor": 0,
  "metadata": {
    "colab": {
      "provenance": [],
      "toc_visible": true,
      "authorship_tag": "ABX9TyNpMDMY7EN40l/Iutpa3FcZ",
      "include_colab_link": true
    },
    "kernelspec": {
      "name": "ir",
      "display_name": "R"
    },
    "language_info": {
      "name": "R"
    }
  },
  "cells": [
    {
      "cell_type": "markdown",
      "metadata": {
        "id": "view-in-github",
        "colab_type": "text"
      },
      "source": [
        "<a href=\"https://colab.research.google.com/github/crislanecas/estudos_r/blob/main/Google%20Data%20Analytics/03_Trabalhando_datas_e_horas_com_R.ipynb\" target=\"_parent\"><img src=\"https://colab.research.google.com/assets/colab-badge.svg\" alt=\"Open In Colab\"/></a>"
      ]
    },
    {
      "cell_type": "markdown",
      "source": [
        "# Instalando pacotes"
      ],
      "metadata": {
        "id": "UDXTEm1Lk5ny"
      }
    },
    {
      "cell_type": "code",
      "execution_count": null,
      "metadata": {
        "id": "WDzhw4wQk02z"
      },
      "outputs": [],
      "source": [
        "# Carrega o pacote para trabalhar com datas e horas.\n",
        "library(lubridate)"
      ]
    },
    {
      "cell_type": "markdown",
      "source": [
        "# Função today()"
      ],
      "metadata": {
        "id": "NNUxYDohlC_e"
      }
    },
    {
      "cell_type": "code",
      "source": [
        "# Para obter a data atual.\n",
        "today()"
      ],
      "metadata": {
        "colab": {
          "base_uri": "https://localhost:8080/",
          "height": 34
        },
        "id": "78yORtJWlFxR",
        "outputId": "2af5d37e-91a5-4d8c-e371-767274c0a890"
      },
      "execution_count": 2,
      "outputs": [
        {
          "output_type": "display_data",
          "data": {
            "text/html": [
              "<time datetime=\"2024-03-14\">2024-03-14</time>"
            ],
            "text/markdown": "2024-03-14",
            "text/latex": "2024-03-14",
            "text/plain": [
              "[1] \"2024-03-14\""
            ]
          },
          "metadata": {}
        }
      ]
    },
    {
      "cell_type": "markdown",
      "source": [
        "# Função now()"
      ],
      "metadata": {
        "id": "rSjCbwKilIgL"
      }
    },
    {
      "cell_type": "code",
      "source": [
        "# Para obter a data-hora atual.\n",
        "now()"
      ],
      "metadata": {
        "colab": {
          "base_uri": "https://localhost:8080/",
          "height": 34
        },
        "id": "NJxW9_wjlKM-",
        "outputId": "f42dc74f-c781-4300-f4b6-1574e7007899"
      },
      "execution_count": 3,
      "outputs": [
        {
          "output_type": "display_data",
          "data": {
            "text/plain": [
              "[1] \"2024-03-14 20:14:51 UTC\""
            ]
          },
          "metadata": {}
        }
      ]
    },
    {
      "cell_type": "markdown",
      "source": [
        "# Função ymd(), dmy(), mdy(), etc"
      ],
      "metadata": {
        "id": "oNE9G89_lMPo"
      }
    },
    {
      "cell_type": "code",
      "source": [
        "# Converte strings de formatos divewrsos em datas, no formato padrão aaaa-mm-dd.\n",
        "ymd(\"2021-01-20\")"
      ],
      "metadata": {
        "colab": {
          "base_uri": "https://localhost:8080/",
          "height": 34
        },
        "id": "G-u4mcTxlN77",
        "outputId": "abff8878-32de-4027-ad44-9fcc27970d94"
      },
      "execution_count": 4,
      "outputs": [
        {
          "output_type": "display_data",
          "data": {
            "text/html": [
              "<time datetime=\"2021-01-20\">2021-01-20</time>"
            ],
            "text/markdown": "2021-01-20",
            "text/latex": "2021-01-20",
            "text/plain": [
              "[1] \"2021-01-20\""
            ]
          },
          "metadata": {}
        }
      ]
    },
    {
      "cell_type": "code",
      "source": [
        "# Converte strings de formatos divewrsos em datas, no formato padrão aaaa-mm-dd.\n",
        "mdy(\"January 20th, 2021\")"
      ],
      "metadata": {
        "colab": {
          "base_uri": "https://localhost:8080/",
          "height": 34
        },
        "id": "9PK6uV18lPP-",
        "outputId": "d2857990-5a36-4e7e-9347-385faa33bfaf"
      },
      "execution_count": 5,
      "outputs": [
        {
          "output_type": "display_data",
          "data": {
            "text/html": [
              "<time datetime=\"2021-01-20\">2021-01-20</time>"
            ],
            "text/markdown": "2021-01-20",
            "text/latex": "2021-01-20",
            "text/plain": [
              "[1] \"2021-01-20\""
            ]
          },
          "metadata": {}
        }
      ]
    },
    {
      "cell_type": "code",
      "source": [
        "# Converte strings de formatos divewrsos em datas, no formato padrão aaaa-mm-dd.\n",
        "dmy(\"20-Jan-2021\")"
      ],
      "metadata": {
        "colab": {
          "base_uri": "https://localhost:8080/",
          "height": 34
        },
        "id": "eEnu_cW5lQnz",
        "outputId": "8d6639b4-ffbf-41a4-e825-af9b5b26fe73"
      },
      "execution_count": 6,
      "outputs": [
        {
          "output_type": "display_data",
          "data": {
            "text/html": [
              "<time datetime=\"2021-01-20\">2021-01-20</time>"
            ],
            "text/markdown": "2021-01-20",
            "text/latex": "2021-01-20",
            "text/plain": [
              "[1] \"2021-01-20\""
            ]
          },
          "metadata": {}
        }
      ]
    },
    {
      "cell_type": "code",
      "source": [
        "# Converte números (sem aspas) em data, no formato padrão aaaa-mm-dd.\n",
        "ymd(20210120)"
      ],
      "metadata": {
        "colab": {
          "base_uri": "https://localhost:8080/",
          "height": 34
        },
        "id": "FPhSlNXTlS-0",
        "outputId": "f76513c2-0ee8-450d-fb88-0472b4716a3e"
      },
      "execution_count": 7,
      "outputs": [
        {
          "output_type": "display_data",
          "data": {
            "text/html": [
              "<time datetime=\"2021-01-20\">2021-01-20</time>"
            ],
            "text/markdown": "2021-01-20",
            "text/latex": "2021-01-20",
            "text/plain": [
              "[1] \"2021-01-20\""
            ]
          },
          "metadata": {}
        }
      ]
    },
    {
      "cell_type": "markdown",
      "source": [
        "# Função ymd_hms() e suas variações"
      ],
      "metadata": {
        "id": "3T3_TG6_l08w"
      }
    },
    {
      "cell_type": "code",
      "source": [
        "# Converte strings de formatos diversos em data-hora, no formato padrão aaaa-mm-dd hh:mm:ss UTC.\n",
        "ymd_hms(\"2021-01-20 20:11:59\")"
      ],
      "metadata": {
        "colab": {
          "base_uri": "https://localhost:8080/",
          "height": 34
        },
        "id": "9JeKbVaSl2Gw",
        "outputId": "096bb5a2-f095-4332-ce88-2272a7500769"
      },
      "execution_count": 8,
      "outputs": [
        {
          "output_type": "display_data",
          "data": {
            "text/plain": [
              "[1] \"2021-01-20 20:11:59 UTC\""
            ]
          },
          "metadata": {}
        }
      ]
    },
    {
      "cell_type": "code",
      "source": [
        "# Converte strings de formatos diversos em data-hora, no formato padrão aaaa-mm-dd hh:mm:ss UTC.\n",
        "mdy_hm(\"01/20/2021 08:01\")"
      ],
      "metadata": {
        "colab": {
          "base_uri": "https://localhost:8080/",
          "height": 34
        },
        "id": "9xK8b49umYQY",
        "outputId": "b270e5e7-de38-4255-8364-5dbb2c92ba0a"
      },
      "execution_count": 9,
      "outputs": [
        {
          "output_type": "display_data",
          "data": {
            "text/plain": [
              "[1] \"2021-01-20 08:01:00 UTC\""
            ]
          },
          "metadata": {}
        }
      ]
    },
    {
      "cell_type": "markdown",
      "source": [
        "# Função as_date()"
      ],
      "metadata": {
        "id": "rOSTN5bgmZ-1"
      }
    },
    {
      "cell_type": "code",
      "source": [
        "# Converter data-hora em data no formato padrão aaaa-mm-dd.\n",
        "as_date(\"2021-01-20 20:11:59\")"
      ],
      "metadata": {
        "colab": {
          "base_uri": "https://localhost:8080/",
          "height": 34
        },
        "id": "Cpx0EETzm8jH",
        "outputId": "6b79737f-f20e-4fc3-dfd8-98ee8a38b115"
      },
      "execution_count": 11,
      "outputs": [
        {
          "output_type": "display_data",
          "data": {
            "text/html": [
              "<time datetime=\"2021-01-20\">2021-01-20</time>"
            ],
            "text/markdown": "2021-01-20",
            "text/latex": "2021-01-20",
            "text/plain": [
              "[1] \"2021-01-20\""
            ]
          },
          "metadata": {}
        }
      ]
    },
    {
      "cell_type": "code",
      "source": [
        "# Converter data-hora em data no formato padrão aaaa-mm-dd.\n",
        "as_date(now())"
      ],
      "metadata": {
        "colab": {
          "base_uri": "https://localhost:8080/",
          "height": 34
        },
        "id": "6T-i5Uoombt3",
        "outputId": "0131f64c-1836-4c27-c8e0-843a3d9fc4ff"
      },
      "execution_count": 10,
      "outputs": [
        {
          "output_type": "display_data",
          "data": {
            "text/html": [
              "<time datetime=\"2024-03-14\">2024-03-14</time>"
            ],
            "text/markdown": "2024-03-14",
            "text/latex": "2024-03-14",
            "text/plain": [
              "[1] \"2024-03-14\""
            ]
          },
          "metadata": {}
        }
      ]
    }
  ]
}